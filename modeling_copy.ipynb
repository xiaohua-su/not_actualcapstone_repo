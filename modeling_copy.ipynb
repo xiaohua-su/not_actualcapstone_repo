{
 "cells": [
  {
   "cell_type": "markdown",
   "id": "366c7c1e",
   "metadata": {
    "pycharm": {
     "name": "#%% md\n"
    }
   },
   "source": [
    "# Predicting Heart Disease"
   ]
  },
  {
   "cell_type": "markdown",
   "id": "a40126e3",
   "metadata": {
    "pycharm": {
     "name": "#%% md\n"
    }
   },
   "source": [
    "Image"
   ]
  },
  {
   "cell_type": "markdown",
   "id": "8117b124",
   "metadata": {
    "pycharm": {
     "name": "#%% md\n"
    }
   },
   "source": [
    "Author: Xiaohua Su\n",
    "\n",
    "Date: May 17th, 2022"
   ]
  },
  {
   "cell_type": "markdown",
   "id": "3f3f90e2",
   "metadata": {
    "pycharm": {
     "name": "#%% md\n"
    }
   },
   "source": [
    "# Overview"
   ]
  },
  {
   "cell_type": "markdown",
   "id": "13e01b57",
   "metadata": {
    "pycharm": {
     "name": "#%% md\n"
    }
   },
   "source": [
    "As of 2020, heart disease is the leading cause of death in the US, with the disease claiming close to 700,000 that year. It is the leading cause of death regardless of gender and for most race/ethnicity. This disease can lead to early death in individuals, increase medicial visits and a lost of productivity in our economy. As such, it is important to try to address this.\n"
   ]
  },
  {
   "cell_type": "markdown",
   "id": "8ac5f54a",
   "metadata": {
    "pycharm": {
     "name": "#%% md\n"
    }
   },
   "source": [
    "# Business Problem"
   ]
  },
  {
   "cell_type": "markdown",
   "id": "9048a4f6",
   "metadata": {
    "pycharm": {
     "name": "#%% md\n"
    }
   },
   "source": [
    "With how prevalent heart disease is in the nation, it is important for doctors to discuss with their patients about early prevention. In order to do this, doctors would need to know more about a patient’s history in order to diagnose them with having heart disease, potentially requiring blood work in addition. Getting the results from the blood work usually happens after the patient’s is already out of the doctor’s office. Calls will then be made to discuss these results and potential follow up appointments will be made. \n",
    "\n",
    "Our model aims to predict whether a patient, who comes into a doctor’s office/hospital, has heart disease. By being able to predict if the patient has heart disease or not, we can then flag this patient for the doctor electronically. Instead of having to waiting for a phone call for a discussion on, that may not be between the patient and doctor, conversation between the doctor and patient about managing heart disease can begin. This flagging can help start the conversation between the doctor and patient about early prevention steps that can be made and can help lead the doctor in asking certain questions for further verification and testing."
   ]
  },
  {
   "cell_type": "markdown",
   "id": "dc6a0f13",
   "metadata": {
    "pycharm": {
     "name": "#%% md\n"
    }
   },
   "source": [
    "# Data"
   ]
  },
  {
   "cell_type": "markdown",
   "id": "23780e7f",
   "metadata": {
    "pycharm": {
     "name": "#%% md\n"
    }
   },
   "source": [
    "The data was taken from the [CDC's 2020 Behavorial Risk Factor Surveillance System](https://www.cdc.gov/brfss/annual_data/annual_2020.html) (BRFSS). Due to how large the data is, this data was not uploaded to the github but can be found where the data was taken underneath the data files section.\n",
    "\n",
    "It is a survey data performed between 2020 to 2021 from the CDC to monitor people's health-behavior, chronic health conditions, and use of services to help manage their disease. The data contains information of the individual such as `race` and `gender` that we will not use to avoid these biases in our models. A new column was created as the data does not specifically have a column called heart disease but instead has two two columns called `cvdinfr4` and `cvdcrhd4` that corresponded with whether the individual was ever told/diagnose with having a heart attack and told that they had coronary heart disease. Both questions, get at the issue of heart disease."
   ]
  },
  {
   "cell_type": "markdown",
   "id": "78940e75",
   "metadata": {
    "pycharm": {
     "name": "#%% md\n"
    }
   },
   "source": [
    "# Imports and Loading in Data "
   ]
  },
  {
   "cell_type": "code",
   "execution_count": 1,
   "id": "adf2a89a",
   "metadata": {
    "pycharm": {
     "name": "#%%\n"
    }
   },
   "outputs": [],
   "source": [
    "import pandas as pd\n",
    "import numpy as np\n",
    "\n",
    "from sklearn.model_selection import train_test_split, GridSearchCV, cross_val_score\n",
    "from sklearn.preprocessing import MinMaxScaler, OneHotEncoder\n",
    "from sklearn.compose import ColumnTransformer\n",
    "from sklearn.linear_model import LogisticRegression\n",
    "from sklearn.ensemble import BaggingClassifier, RandomForestClassifier, \\\n",
    "ExtraTreesClassifier, VotingClassifier, StackingRegressor\n",
    "from sklearn.metrics import plot_confusion_matrix, recall_score,\\\n",
    "    accuracy_score, precision_score, f1_score, roc_auc_score, plot_roc_curve\n",
    "from sklearn.dummy import DummyClassifier\n",
    "from sklearn.tree import DecisionTreeClassifier\n",
    "from sklearn.neighbors import KNeighborsClassifier\n",
    "from xgboost import XGBClassifier\n",
    "from sklearn.feature_selection import RFE\n",
    "from sklearn.linear_model import BayesianRidge\n",
    "from sklearn.experimental import enable_iterative_imputer\n",
    "from sklearn.impute import IterativeImputer\n",
    "from sklearn.pipeline import Pipeline\n",
    "from sklearn.decomposition import PCA\n",
    "\n",
    "from imblearn.over_sampling import SMOTE\n",
    "from imblearn.pipeline import Pipeline as ImPipeline\n",
    "\n",
    "from model import *\n",
    "import joblib"
   ]
  },
  {
   "cell_type": "code",
   "execution_count": 2,
   "id": "06e47538",
   "metadata": {
    "pycharm": {
     "name": "#%%\n"
    }
   },
   "outputs": [],
   "source": [
    "pd.set_option('display.max_columns', None)"
   ]
  },
  {
   "cell_type": "code",
   "execution_count": 3,
   "id": "626006c9",
   "metadata": {
    "pycharm": {
     "name": "#%%\n"
    }
   },
   "outputs": [],
   "source": [
    "heart_df = pd.read_csv('./Data/heart_df.csv')"
   ]
  },
  {
   "cell_type": "code",
   "execution_count": 4,
   "id": "75ab9d48",
   "metadata": {
    "pycharm": {
     "name": "#%%\n"
    }
   },
   "outputs": [
    {
     "data": {
      "text/plain": "        Unnamed: 0  state  general_health  physical_health  mental_health  \\\n0                0    1.0             2.0              3.0           30.0   \n1                1    1.0             3.0              0.0            0.0   \n2                2    1.0             3.0              0.0            0.0   \n3                4    1.0             2.0              0.0            0.0   \n4                5    1.0             4.0             20.0           30.0   \n...            ...    ...             ...              ...            ...   \n331523      401953   72.0             3.0              0.0            0.0   \n331524      401954   72.0             3.0              0.0            0.0   \n331525      401955   72.0             3.0              0.0            0.0   \n331526      401956   72.0             3.0              0.0            0.0   \n331527      401957   72.0             3.0              2.0            7.0   \n\n        health_insurance  health_care_doctors  no_doc_bc_cost  last_checkup  \\\n0                    2.0                  3.0             1.0           4.0   \n1                    1.0                  1.0             1.0           1.0   \n2                    1.0                  1.0             2.0           1.0   \n3                    1.0                  1.0             2.0           1.0   \n4                    1.0                  1.0             2.0           2.0   \n...                  ...                  ...             ...           ...   \n331523               2.0                  1.0             2.0           2.0   \n331524               1.0                  1.0             2.0           3.0   \n331525               1.0                  1.0             2.0           2.0   \n331526               1.0                  1.0             2.0           1.0   \n331527               1.0                  1.0             2.0           1.0   \n\n        excercise_30  sleep  stroke  asthma  skin_cancer  other_cancer  \\\n0                1.0    5.0     2.0     1.0          1.0           1.0   \n1                1.0    7.0     2.0     1.0          2.0           2.0   \n2                1.0    7.0     2.0     2.0          2.0           1.0   \n3                1.0    7.0     1.0     2.0          2.0           2.0   \n4                1.0    8.0     2.0     1.0          2.0           2.0   \n...              ...    ...     ...     ...          ...           ...   \n331523           1.0    6.0     2.0     2.0          2.0           2.0   \n331524           2.0   12.0     2.0     2.0          2.0           2.0   \n331525           1.0    8.0     2.0     2.0          2.0           2.0   \n331526           1.0    6.0     2.0     2.0          2.0           2.0   \n331527           2.0    6.0     1.0     1.0          2.0           2.0   \n\n        copd_type_issue  arthritis_anyform  depressive_disorder  \\\n0                   1.0                1.0                  1.0   \n1                   2.0                1.0                  1.0   \n2                   2.0                1.0                  2.0   \n3                   2.0                2.0                  2.0   \n4                   1.0                1.0                  2.0   \n...                 ...                ...                  ...   \n331523              2.0                2.0                  1.0   \n331524              2.0                2.0                  2.0   \n331525              2.0                2.0                  2.0   \n331526              2.0                2.0                  2.0   \n331527              2.0                2.0                  1.0   \n\n        kidney_disease  diabetes  education_lvl  rent_own  employment_status  \\\n0                  2.0       1.0            6.0       1.0                4.0   \n1                  2.0       3.0            6.0       1.0                7.0   \n2                  2.0       3.0            5.0       1.0                7.0   \n3                  2.0       3.0            6.0       2.0                7.0   \n4                  2.0       1.0            4.0       3.0                8.0   \n...                ...       ...            ...       ...                ...   \n331523             2.0       3.0            5.0       1.0                1.0   \n331524             2.0       3.0            3.0       2.0                5.0   \n331525             2.0       3.0            4.0       1.0                5.0   \n331526             2.0       3.0            6.0       1.0                1.0   \n331527             NaN       4.0            6.0       1.0                8.0   \n\n        income_level  weight_kg  height_m  difficulty_walking  \\\n0                1.0       48.0     170.0                 2.0   \n1               99.0        NaN     163.0                 2.0   \n2                7.0        NaN     173.0                 2.0   \n3                NaN       57.0     168.0                 2.0   \n4                5.0       82.0     175.0                 2.0   \n...              ...        ...       ...                 ...   \n331523          99.0       55.0     150.0                 2.0   \n331524           4.0       76.0     152.0                 2.0   \n331525           1.0       72.0     124.0                 2.0   \n331526          99.0       80.0     173.0                 2.0   \n331527           5.0       90.0     170.0                 2.0   \n\n        smoke100_lifetime  smokeless_tobacco_products  alcohol_consumption_30  \\\n0                     1.0                         3.0                     0.0   \n1                     NaN                         NaN                     NaN   \n2                     2.0                         3.0                     0.0   \n3                     2.0                         3.0                     0.0   \n4                     1.0                         1.0                     0.0   \n...                   ...                         ...                     ...   \n331523                2.0                         3.0                     0.0   \n331524                2.0                         3.0                     0.0   \n331525                2.0                         3.0                     0.0   \n331526                7.0                         3.0                     4.0   \n331527                2.0                         3.0                     0.0   \n\n        high_risk_situations  ecigaret  heart_disease  \n0                        2.0       1.0            0.0  \n1                        NaN       NaN            0.0  \n2                        2.0       2.0            0.0  \n3                        2.0       2.0            0.0  \n4                        2.0       1.0            0.0  \n...                      ...       ...            ...  \n331523                   2.0       NaN            0.0  \n331524                   2.0       NaN            0.0  \n331525                   2.0       NaN            0.0  \n331526                   2.0       NaN            0.0  \n331527                   2.0       NaN            0.0  \n\n[331528 rows x 33 columns]",
      "text/html": "<div>\n<style scoped>\n    .dataframe tbody tr th:only-of-type {\n        vertical-align: middle;\n    }\n\n    .dataframe tbody tr th {\n        vertical-align: top;\n    }\n\n    .dataframe thead th {\n        text-align: right;\n    }\n</style>\n<table border=\"1\" class=\"dataframe\">\n  <thead>\n    <tr style=\"text-align: right;\">\n      <th></th>\n      <th>Unnamed: 0</th>\n      <th>state</th>\n      <th>general_health</th>\n      <th>physical_health</th>\n      <th>mental_health</th>\n      <th>health_insurance</th>\n      <th>health_care_doctors</th>\n      <th>no_doc_bc_cost</th>\n      <th>last_checkup</th>\n      <th>excercise_30</th>\n      <th>sleep</th>\n      <th>stroke</th>\n      <th>asthma</th>\n      <th>skin_cancer</th>\n      <th>other_cancer</th>\n      <th>copd_type_issue</th>\n      <th>arthritis_anyform</th>\n      <th>depressive_disorder</th>\n      <th>kidney_disease</th>\n      <th>diabetes</th>\n      <th>education_lvl</th>\n      <th>rent_own</th>\n      <th>employment_status</th>\n      <th>income_level</th>\n      <th>weight_kg</th>\n      <th>height_m</th>\n      <th>difficulty_walking</th>\n      <th>smoke100_lifetime</th>\n      <th>smokeless_tobacco_products</th>\n      <th>alcohol_consumption_30</th>\n      <th>high_risk_situations</th>\n      <th>ecigaret</th>\n      <th>heart_disease</th>\n    </tr>\n  </thead>\n  <tbody>\n    <tr>\n      <th>0</th>\n      <td>0</td>\n      <td>1.0</td>\n      <td>2.0</td>\n      <td>3.0</td>\n      <td>30.0</td>\n      <td>2.0</td>\n      <td>3.0</td>\n      <td>1.0</td>\n      <td>4.0</td>\n      <td>1.0</td>\n      <td>5.0</td>\n      <td>2.0</td>\n      <td>1.0</td>\n      <td>1.0</td>\n      <td>1.0</td>\n      <td>1.0</td>\n      <td>1.0</td>\n      <td>1.0</td>\n      <td>2.0</td>\n      <td>1.0</td>\n      <td>6.0</td>\n      <td>1.0</td>\n      <td>4.0</td>\n      <td>1.0</td>\n      <td>48.0</td>\n      <td>170.0</td>\n      <td>2.0</td>\n      <td>1.0</td>\n      <td>3.0</td>\n      <td>0.0</td>\n      <td>2.0</td>\n      <td>1.0</td>\n      <td>0.0</td>\n    </tr>\n    <tr>\n      <th>1</th>\n      <td>1</td>\n      <td>1.0</td>\n      <td>3.0</td>\n      <td>0.0</td>\n      <td>0.0</td>\n      <td>1.0</td>\n      <td>1.0</td>\n      <td>1.0</td>\n      <td>1.0</td>\n      <td>1.0</td>\n      <td>7.0</td>\n      <td>2.0</td>\n      <td>1.0</td>\n      <td>2.0</td>\n      <td>2.0</td>\n      <td>2.0</td>\n      <td>1.0</td>\n      <td>1.0</td>\n      <td>2.0</td>\n      <td>3.0</td>\n      <td>6.0</td>\n      <td>1.0</td>\n      <td>7.0</td>\n      <td>99.0</td>\n      <td>NaN</td>\n      <td>163.0</td>\n      <td>2.0</td>\n      <td>NaN</td>\n      <td>NaN</td>\n      <td>NaN</td>\n      <td>NaN</td>\n      <td>NaN</td>\n      <td>0.0</td>\n    </tr>\n    <tr>\n      <th>2</th>\n      <td>2</td>\n      <td>1.0</td>\n      <td>3.0</td>\n      <td>0.0</td>\n      <td>0.0</td>\n      <td>1.0</td>\n      <td>1.0</td>\n      <td>2.0</td>\n      <td>1.0</td>\n      <td>1.0</td>\n      <td>7.0</td>\n      <td>2.0</td>\n      <td>2.0</td>\n      <td>2.0</td>\n      <td>1.0</td>\n      <td>2.0</td>\n      <td>1.0</td>\n      <td>2.0</td>\n      <td>2.0</td>\n      <td>3.0</td>\n      <td>5.0</td>\n      <td>1.0</td>\n      <td>7.0</td>\n      <td>7.0</td>\n      <td>NaN</td>\n      <td>173.0</td>\n      <td>2.0</td>\n      <td>2.0</td>\n      <td>3.0</td>\n      <td>0.0</td>\n      <td>2.0</td>\n      <td>2.0</td>\n      <td>0.0</td>\n    </tr>\n    <tr>\n      <th>3</th>\n      <td>4</td>\n      <td>1.0</td>\n      <td>2.0</td>\n      <td>0.0</td>\n      <td>0.0</td>\n      <td>1.0</td>\n      <td>1.0</td>\n      <td>2.0</td>\n      <td>1.0</td>\n      <td>1.0</td>\n      <td>7.0</td>\n      <td>1.0</td>\n      <td>2.0</td>\n      <td>2.0</td>\n      <td>2.0</td>\n      <td>2.0</td>\n      <td>2.0</td>\n      <td>2.0</td>\n      <td>2.0</td>\n      <td>3.0</td>\n      <td>6.0</td>\n      <td>2.0</td>\n      <td>7.0</td>\n      <td>NaN</td>\n      <td>57.0</td>\n      <td>168.0</td>\n      <td>2.0</td>\n      <td>2.0</td>\n      <td>3.0</td>\n      <td>0.0</td>\n      <td>2.0</td>\n      <td>2.0</td>\n      <td>0.0</td>\n    </tr>\n    <tr>\n      <th>4</th>\n      <td>5</td>\n      <td>1.0</td>\n      <td>4.0</td>\n      <td>20.0</td>\n      <td>30.0</td>\n      <td>1.0</td>\n      <td>1.0</td>\n      <td>2.0</td>\n      <td>2.0</td>\n      <td>1.0</td>\n      <td>8.0</td>\n      <td>2.0</td>\n      <td>1.0</td>\n      <td>2.0</td>\n      <td>2.0</td>\n      <td>1.0</td>\n      <td>1.0</td>\n      <td>2.0</td>\n      <td>2.0</td>\n      <td>1.0</td>\n      <td>4.0</td>\n      <td>3.0</td>\n      <td>8.0</td>\n      <td>5.0</td>\n      <td>82.0</td>\n      <td>175.0</td>\n      <td>2.0</td>\n      <td>1.0</td>\n      <td>1.0</td>\n      <td>0.0</td>\n      <td>2.0</td>\n      <td>1.0</td>\n      <td>0.0</td>\n    </tr>\n    <tr>\n      <th>...</th>\n      <td>...</td>\n      <td>...</td>\n      <td>...</td>\n      <td>...</td>\n      <td>...</td>\n      <td>...</td>\n      <td>...</td>\n      <td>...</td>\n      <td>...</td>\n      <td>...</td>\n      <td>...</td>\n      <td>...</td>\n      <td>...</td>\n      <td>...</td>\n      <td>...</td>\n      <td>...</td>\n      <td>...</td>\n      <td>...</td>\n      <td>...</td>\n      <td>...</td>\n      <td>...</td>\n      <td>...</td>\n      <td>...</td>\n      <td>...</td>\n      <td>...</td>\n      <td>...</td>\n      <td>...</td>\n      <td>...</td>\n      <td>...</td>\n      <td>...</td>\n      <td>...</td>\n      <td>...</td>\n      <td>...</td>\n    </tr>\n    <tr>\n      <th>331523</th>\n      <td>401953</td>\n      <td>72.0</td>\n      <td>3.0</td>\n      <td>0.0</td>\n      <td>0.0</td>\n      <td>2.0</td>\n      <td>1.0</td>\n      <td>2.0</td>\n      <td>2.0</td>\n      <td>1.0</td>\n      <td>6.0</td>\n      <td>2.0</td>\n      <td>2.0</td>\n      <td>2.0</td>\n      <td>2.0</td>\n      <td>2.0</td>\n      <td>2.0</td>\n      <td>1.0</td>\n      <td>2.0</td>\n      <td>3.0</td>\n      <td>5.0</td>\n      <td>1.0</td>\n      <td>1.0</td>\n      <td>99.0</td>\n      <td>55.0</td>\n      <td>150.0</td>\n      <td>2.0</td>\n      <td>2.0</td>\n      <td>3.0</td>\n      <td>0.0</td>\n      <td>2.0</td>\n      <td>NaN</td>\n      <td>0.0</td>\n    </tr>\n    <tr>\n      <th>331524</th>\n      <td>401954</td>\n      <td>72.0</td>\n      <td>3.0</td>\n      <td>0.0</td>\n      <td>0.0</td>\n      <td>1.0</td>\n      <td>1.0</td>\n      <td>2.0</td>\n      <td>3.0</td>\n      <td>2.0</td>\n      <td>12.0</td>\n      <td>2.0</td>\n      <td>2.0</td>\n      <td>2.0</td>\n      <td>2.0</td>\n      <td>2.0</td>\n      <td>2.0</td>\n      <td>2.0</td>\n      <td>2.0</td>\n      <td>3.0</td>\n      <td>3.0</td>\n      <td>2.0</td>\n      <td>5.0</td>\n      <td>4.0</td>\n      <td>76.0</td>\n      <td>152.0</td>\n      <td>2.0</td>\n      <td>2.0</td>\n      <td>3.0</td>\n      <td>0.0</td>\n      <td>2.0</td>\n      <td>NaN</td>\n      <td>0.0</td>\n    </tr>\n    <tr>\n      <th>331525</th>\n      <td>401955</td>\n      <td>72.0</td>\n      <td>3.0</td>\n      <td>0.0</td>\n      <td>0.0</td>\n      <td>1.0</td>\n      <td>1.0</td>\n      <td>2.0</td>\n      <td>2.0</td>\n      <td>1.0</td>\n      <td>8.0</td>\n      <td>2.0</td>\n      <td>2.0</td>\n      <td>2.0</td>\n      <td>2.0</td>\n      <td>2.0</td>\n      <td>2.0</td>\n      <td>2.0</td>\n      <td>2.0</td>\n      <td>3.0</td>\n      <td>4.0</td>\n      <td>1.0</td>\n      <td>5.0</td>\n      <td>1.0</td>\n      <td>72.0</td>\n      <td>124.0</td>\n      <td>2.0</td>\n      <td>2.0</td>\n      <td>3.0</td>\n      <td>0.0</td>\n      <td>2.0</td>\n      <td>NaN</td>\n      <td>0.0</td>\n    </tr>\n    <tr>\n      <th>331526</th>\n      <td>401956</td>\n      <td>72.0</td>\n      <td>3.0</td>\n      <td>0.0</td>\n      <td>0.0</td>\n      <td>1.0</td>\n      <td>1.0</td>\n      <td>2.0</td>\n      <td>1.0</td>\n      <td>1.0</td>\n      <td>6.0</td>\n      <td>2.0</td>\n      <td>2.0</td>\n      <td>2.0</td>\n      <td>2.0</td>\n      <td>2.0</td>\n      <td>2.0</td>\n      <td>2.0</td>\n      <td>2.0</td>\n      <td>3.0</td>\n      <td>6.0</td>\n      <td>1.0</td>\n      <td>1.0</td>\n      <td>99.0</td>\n      <td>80.0</td>\n      <td>173.0</td>\n      <td>2.0</td>\n      <td>7.0</td>\n      <td>3.0</td>\n      <td>4.0</td>\n      <td>2.0</td>\n      <td>NaN</td>\n      <td>0.0</td>\n    </tr>\n    <tr>\n      <th>331527</th>\n      <td>401957</td>\n      <td>72.0</td>\n      <td>3.0</td>\n      <td>2.0</td>\n      <td>7.0</td>\n      <td>1.0</td>\n      <td>1.0</td>\n      <td>2.0</td>\n      <td>1.0</td>\n      <td>2.0</td>\n      <td>6.0</td>\n      <td>1.0</td>\n      <td>1.0</td>\n      <td>2.0</td>\n      <td>2.0</td>\n      <td>2.0</td>\n      <td>2.0</td>\n      <td>1.0</td>\n      <td>NaN</td>\n      <td>4.0</td>\n      <td>6.0</td>\n      <td>1.0</td>\n      <td>8.0</td>\n      <td>5.0</td>\n      <td>90.0</td>\n      <td>170.0</td>\n      <td>2.0</td>\n      <td>2.0</td>\n      <td>3.0</td>\n      <td>0.0</td>\n      <td>2.0</td>\n      <td>NaN</td>\n      <td>0.0</td>\n    </tr>\n  </tbody>\n</table>\n<p>331528 rows × 33 columns</p>\n</div>"
     },
     "execution_count": 4,
     "metadata": {},
     "output_type": "execute_result"
    }
   ],
   "source": [
    "heart_df"
   ]
  },
  {
   "cell_type": "code",
   "execution_count": 5,
   "id": "c35e87e8",
   "metadata": {
    "pycharm": {
     "name": "#%%\n"
    }
   },
   "outputs": [],
   "source": [
    "heart_df.drop(columns = ['Unnamed: 0'], inplace = True)"
   ]
  },
  {
   "cell_type": "code",
   "execution_count": 6,
   "id": "c7564b18",
   "metadata": {
    "pycharm": {
     "name": "#%%\n"
    }
   },
   "outputs": [
    {
     "data": {
      "text/plain": "        state  general_health  physical_health  mental_health  \\\n0         1.0             2.0              3.0           30.0   \n1         1.0             3.0              0.0            0.0   \n2         1.0             3.0              0.0            0.0   \n3         1.0             2.0              0.0            0.0   \n4         1.0             4.0             20.0           30.0   \n...       ...             ...              ...            ...   \n331523   72.0             3.0              0.0            0.0   \n331524   72.0             3.0              0.0            0.0   \n331525   72.0             3.0              0.0            0.0   \n331526   72.0             3.0              0.0            0.0   \n331527   72.0             3.0              2.0            7.0   \n\n        health_insurance  health_care_doctors  no_doc_bc_cost  last_checkup  \\\n0                    2.0                  3.0             1.0           4.0   \n1                    1.0                  1.0             1.0           1.0   \n2                    1.0                  1.0             2.0           1.0   \n3                    1.0                  1.0             2.0           1.0   \n4                    1.0                  1.0             2.0           2.0   \n...                  ...                  ...             ...           ...   \n331523               2.0                  1.0             2.0           2.0   \n331524               1.0                  1.0             2.0           3.0   \n331525               1.0                  1.0             2.0           2.0   \n331526               1.0                  1.0             2.0           1.0   \n331527               1.0                  1.0             2.0           1.0   \n\n        excercise_30  sleep  stroke  asthma  skin_cancer  other_cancer  \\\n0                1.0    5.0     2.0     1.0          1.0           1.0   \n1                1.0    7.0     2.0     1.0          2.0           2.0   \n2                1.0    7.0     2.0     2.0          2.0           1.0   \n3                1.0    7.0     1.0     2.0          2.0           2.0   \n4                1.0    8.0     2.0     1.0          2.0           2.0   \n...              ...    ...     ...     ...          ...           ...   \n331523           1.0    6.0     2.0     2.0          2.0           2.0   \n331524           2.0   12.0     2.0     2.0          2.0           2.0   \n331525           1.0    8.0     2.0     2.0          2.0           2.0   \n331526           1.0    6.0     2.0     2.0          2.0           2.0   \n331527           2.0    6.0     1.0     1.0          2.0           2.0   \n\n        copd_type_issue  arthritis_anyform  depressive_disorder  \\\n0                   1.0                1.0                  1.0   \n1                   2.0                1.0                  1.0   \n2                   2.0                1.0                  2.0   \n3                   2.0                2.0                  2.0   \n4                   1.0                1.0                  2.0   \n...                 ...                ...                  ...   \n331523              2.0                2.0                  1.0   \n331524              2.0                2.0                  2.0   \n331525              2.0                2.0                  2.0   \n331526              2.0                2.0                  2.0   \n331527              2.0                2.0                  1.0   \n\n        kidney_disease  diabetes  education_lvl  rent_own  employment_status  \\\n0                  2.0       1.0            6.0       1.0                4.0   \n1                  2.0       3.0            6.0       1.0                7.0   \n2                  2.0       3.0            5.0       1.0                7.0   \n3                  2.0       3.0            6.0       2.0                7.0   \n4                  2.0       1.0            4.0       3.0                8.0   \n...                ...       ...            ...       ...                ...   \n331523             2.0       3.0            5.0       1.0                1.0   \n331524             2.0       3.0            3.0       2.0                5.0   \n331525             2.0       3.0            4.0       1.0                5.0   \n331526             2.0       3.0            6.0       1.0                1.0   \n331527             NaN       4.0            6.0       1.0                8.0   \n\n        income_level  weight_kg  height_m  difficulty_walking  \\\n0                1.0       48.0     170.0                 2.0   \n1               99.0        NaN     163.0                 2.0   \n2                7.0        NaN     173.0                 2.0   \n3                NaN       57.0     168.0                 2.0   \n4                5.0       82.0     175.0                 2.0   \n...              ...        ...       ...                 ...   \n331523          99.0       55.0     150.0                 2.0   \n331524           4.0       76.0     152.0                 2.0   \n331525           1.0       72.0     124.0                 2.0   \n331526          99.0       80.0     173.0                 2.0   \n331527           5.0       90.0     170.0                 2.0   \n\n        smoke100_lifetime  smokeless_tobacco_products  alcohol_consumption_30  \\\n0                     1.0                         3.0                     0.0   \n1                     NaN                         NaN                     NaN   \n2                     2.0                         3.0                     0.0   \n3                     2.0                         3.0                     0.0   \n4                     1.0                         1.0                     0.0   \n...                   ...                         ...                     ...   \n331523                2.0                         3.0                     0.0   \n331524                2.0                         3.0                     0.0   \n331525                2.0                         3.0                     0.0   \n331526                7.0                         3.0                     4.0   \n331527                2.0                         3.0                     0.0   \n\n        high_risk_situations  ecigaret  heart_disease  \n0                        2.0       1.0            0.0  \n1                        NaN       NaN            0.0  \n2                        2.0       2.0            0.0  \n3                        2.0       2.0            0.0  \n4                        2.0       1.0            0.0  \n...                      ...       ...            ...  \n331523                   2.0       NaN            0.0  \n331524                   2.0       NaN            0.0  \n331525                   2.0       NaN            0.0  \n331526                   2.0       NaN            0.0  \n331527                   2.0       NaN            0.0  \n\n[331528 rows x 32 columns]",
      "text/html": "<div>\n<style scoped>\n    .dataframe tbody tr th:only-of-type {\n        vertical-align: middle;\n    }\n\n    .dataframe tbody tr th {\n        vertical-align: top;\n    }\n\n    .dataframe thead th {\n        text-align: right;\n    }\n</style>\n<table border=\"1\" class=\"dataframe\">\n  <thead>\n    <tr style=\"text-align: right;\">\n      <th></th>\n      <th>state</th>\n      <th>general_health</th>\n      <th>physical_health</th>\n      <th>mental_health</th>\n      <th>health_insurance</th>\n      <th>health_care_doctors</th>\n      <th>no_doc_bc_cost</th>\n      <th>last_checkup</th>\n      <th>excercise_30</th>\n      <th>sleep</th>\n      <th>stroke</th>\n      <th>asthma</th>\n      <th>skin_cancer</th>\n      <th>other_cancer</th>\n      <th>copd_type_issue</th>\n      <th>arthritis_anyform</th>\n      <th>depressive_disorder</th>\n      <th>kidney_disease</th>\n      <th>diabetes</th>\n      <th>education_lvl</th>\n      <th>rent_own</th>\n      <th>employment_status</th>\n      <th>income_level</th>\n      <th>weight_kg</th>\n      <th>height_m</th>\n      <th>difficulty_walking</th>\n      <th>smoke100_lifetime</th>\n      <th>smokeless_tobacco_products</th>\n      <th>alcohol_consumption_30</th>\n      <th>high_risk_situations</th>\n      <th>ecigaret</th>\n      <th>heart_disease</th>\n    </tr>\n  </thead>\n  <tbody>\n    <tr>\n      <th>0</th>\n      <td>1.0</td>\n      <td>2.0</td>\n      <td>3.0</td>\n      <td>30.0</td>\n      <td>2.0</td>\n      <td>3.0</td>\n      <td>1.0</td>\n      <td>4.0</td>\n      <td>1.0</td>\n      <td>5.0</td>\n      <td>2.0</td>\n      <td>1.0</td>\n      <td>1.0</td>\n      <td>1.0</td>\n      <td>1.0</td>\n      <td>1.0</td>\n      <td>1.0</td>\n      <td>2.0</td>\n      <td>1.0</td>\n      <td>6.0</td>\n      <td>1.0</td>\n      <td>4.0</td>\n      <td>1.0</td>\n      <td>48.0</td>\n      <td>170.0</td>\n      <td>2.0</td>\n      <td>1.0</td>\n      <td>3.0</td>\n      <td>0.0</td>\n      <td>2.0</td>\n      <td>1.0</td>\n      <td>0.0</td>\n    </tr>\n    <tr>\n      <th>1</th>\n      <td>1.0</td>\n      <td>3.0</td>\n      <td>0.0</td>\n      <td>0.0</td>\n      <td>1.0</td>\n      <td>1.0</td>\n      <td>1.0</td>\n      <td>1.0</td>\n      <td>1.0</td>\n      <td>7.0</td>\n      <td>2.0</td>\n      <td>1.0</td>\n      <td>2.0</td>\n      <td>2.0</td>\n      <td>2.0</td>\n      <td>1.0</td>\n      <td>1.0</td>\n      <td>2.0</td>\n      <td>3.0</td>\n      <td>6.0</td>\n      <td>1.0</td>\n      <td>7.0</td>\n      <td>99.0</td>\n      <td>NaN</td>\n      <td>163.0</td>\n      <td>2.0</td>\n      <td>NaN</td>\n      <td>NaN</td>\n      <td>NaN</td>\n      <td>NaN</td>\n      <td>NaN</td>\n      <td>0.0</td>\n    </tr>\n    <tr>\n      <th>2</th>\n      <td>1.0</td>\n      <td>3.0</td>\n      <td>0.0</td>\n      <td>0.0</td>\n      <td>1.0</td>\n      <td>1.0</td>\n      <td>2.0</td>\n      <td>1.0</td>\n      <td>1.0</td>\n      <td>7.0</td>\n      <td>2.0</td>\n      <td>2.0</td>\n      <td>2.0</td>\n      <td>1.0</td>\n      <td>2.0</td>\n      <td>1.0</td>\n      <td>2.0</td>\n      <td>2.0</td>\n      <td>3.0</td>\n      <td>5.0</td>\n      <td>1.0</td>\n      <td>7.0</td>\n      <td>7.0</td>\n      <td>NaN</td>\n      <td>173.0</td>\n      <td>2.0</td>\n      <td>2.0</td>\n      <td>3.0</td>\n      <td>0.0</td>\n      <td>2.0</td>\n      <td>2.0</td>\n      <td>0.0</td>\n    </tr>\n    <tr>\n      <th>3</th>\n      <td>1.0</td>\n      <td>2.0</td>\n      <td>0.0</td>\n      <td>0.0</td>\n      <td>1.0</td>\n      <td>1.0</td>\n      <td>2.0</td>\n      <td>1.0</td>\n      <td>1.0</td>\n      <td>7.0</td>\n      <td>1.0</td>\n      <td>2.0</td>\n      <td>2.0</td>\n      <td>2.0</td>\n      <td>2.0</td>\n      <td>2.0</td>\n      <td>2.0</td>\n      <td>2.0</td>\n      <td>3.0</td>\n      <td>6.0</td>\n      <td>2.0</td>\n      <td>7.0</td>\n      <td>NaN</td>\n      <td>57.0</td>\n      <td>168.0</td>\n      <td>2.0</td>\n      <td>2.0</td>\n      <td>3.0</td>\n      <td>0.0</td>\n      <td>2.0</td>\n      <td>2.0</td>\n      <td>0.0</td>\n    </tr>\n    <tr>\n      <th>4</th>\n      <td>1.0</td>\n      <td>4.0</td>\n      <td>20.0</td>\n      <td>30.0</td>\n      <td>1.0</td>\n      <td>1.0</td>\n      <td>2.0</td>\n      <td>2.0</td>\n      <td>1.0</td>\n      <td>8.0</td>\n      <td>2.0</td>\n      <td>1.0</td>\n      <td>2.0</td>\n      <td>2.0</td>\n      <td>1.0</td>\n      <td>1.0</td>\n      <td>2.0</td>\n      <td>2.0</td>\n      <td>1.0</td>\n      <td>4.0</td>\n      <td>3.0</td>\n      <td>8.0</td>\n      <td>5.0</td>\n      <td>82.0</td>\n      <td>175.0</td>\n      <td>2.0</td>\n      <td>1.0</td>\n      <td>1.0</td>\n      <td>0.0</td>\n      <td>2.0</td>\n      <td>1.0</td>\n      <td>0.0</td>\n    </tr>\n    <tr>\n      <th>...</th>\n      <td>...</td>\n      <td>...</td>\n      <td>...</td>\n      <td>...</td>\n      <td>...</td>\n      <td>...</td>\n      <td>...</td>\n      <td>...</td>\n      <td>...</td>\n      <td>...</td>\n      <td>...</td>\n      <td>...</td>\n      <td>...</td>\n      <td>...</td>\n      <td>...</td>\n      <td>...</td>\n      <td>...</td>\n      <td>...</td>\n      <td>...</td>\n      <td>...</td>\n      <td>...</td>\n      <td>...</td>\n      <td>...</td>\n      <td>...</td>\n      <td>...</td>\n      <td>...</td>\n      <td>...</td>\n      <td>...</td>\n      <td>...</td>\n      <td>...</td>\n      <td>...</td>\n      <td>...</td>\n    </tr>\n    <tr>\n      <th>331523</th>\n      <td>72.0</td>\n      <td>3.0</td>\n      <td>0.0</td>\n      <td>0.0</td>\n      <td>2.0</td>\n      <td>1.0</td>\n      <td>2.0</td>\n      <td>2.0</td>\n      <td>1.0</td>\n      <td>6.0</td>\n      <td>2.0</td>\n      <td>2.0</td>\n      <td>2.0</td>\n      <td>2.0</td>\n      <td>2.0</td>\n      <td>2.0</td>\n      <td>1.0</td>\n      <td>2.0</td>\n      <td>3.0</td>\n      <td>5.0</td>\n      <td>1.0</td>\n      <td>1.0</td>\n      <td>99.0</td>\n      <td>55.0</td>\n      <td>150.0</td>\n      <td>2.0</td>\n      <td>2.0</td>\n      <td>3.0</td>\n      <td>0.0</td>\n      <td>2.0</td>\n      <td>NaN</td>\n      <td>0.0</td>\n    </tr>\n    <tr>\n      <th>331524</th>\n      <td>72.0</td>\n      <td>3.0</td>\n      <td>0.0</td>\n      <td>0.0</td>\n      <td>1.0</td>\n      <td>1.0</td>\n      <td>2.0</td>\n      <td>3.0</td>\n      <td>2.0</td>\n      <td>12.0</td>\n      <td>2.0</td>\n      <td>2.0</td>\n      <td>2.0</td>\n      <td>2.0</td>\n      <td>2.0</td>\n      <td>2.0</td>\n      <td>2.0</td>\n      <td>2.0</td>\n      <td>3.0</td>\n      <td>3.0</td>\n      <td>2.0</td>\n      <td>5.0</td>\n      <td>4.0</td>\n      <td>76.0</td>\n      <td>152.0</td>\n      <td>2.0</td>\n      <td>2.0</td>\n      <td>3.0</td>\n      <td>0.0</td>\n      <td>2.0</td>\n      <td>NaN</td>\n      <td>0.0</td>\n    </tr>\n    <tr>\n      <th>331525</th>\n      <td>72.0</td>\n      <td>3.0</td>\n      <td>0.0</td>\n      <td>0.0</td>\n      <td>1.0</td>\n      <td>1.0</td>\n      <td>2.0</td>\n      <td>2.0</td>\n      <td>1.0</td>\n      <td>8.0</td>\n      <td>2.0</td>\n      <td>2.0</td>\n      <td>2.0</td>\n      <td>2.0</td>\n      <td>2.0</td>\n      <td>2.0</td>\n      <td>2.0</td>\n      <td>2.0</td>\n      <td>3.0</td>\n      <td>4.0</td>\n      <td>1.0</td>\n      <td>5.0</td>\n      <td>1.0</td>\n      <td>72.0</td>\n      <td>124.0</td>\n      <td>2.0</td>\n      <td>2.0</td>\n      <td>3.0</td>\n      <td>0.0</td>\n      <td>2.0</td>\n      <td>NaN</td>\n      <td>0.0</td>\n    </tr>\n    <tr>\n      <th>331526</th>\n      <td>72.0</td>\n      <td>3.0</td>\n      <td>0.0</td>\n      <td>0.0</td>\n      <td>1.0</td>\n      <td>1.0</td>\n      <td>2.0</td>\n      <td>1.0</td>\n      <td>1.0</td>\n      <td>6.0</td>\n      <td>2.0</td>\n      <td>2.0</td>\n      <td>2.0</td>\n      <td>2.0</td>\n      <td>2.0</td>\n      <td>2.0</td>\n      <td>2.0</td>\n      <td>2.0</td>\n      <td>3.0</td>\n      <td>6.0</td>\n      <td>1.0</td>\n      <td>1.0</td>\n      <td>99.0</td>\n      <td>80.0</td>\n      <td>173.0</td>\n      <td>2.0</td>\n      <td>7.0</td>\n      <td>3.0</td>\n      <td>4.0</td>\n      <td>2.0</td>\n      <td>NaN</td>\n      <td>0.0</td>\n    </tr>\n    <tr>\n      <th>331527</th>\n      <td>72.0</td>\n      <td>3.0</td>\n      <td>2.0</td>\n      <td>7.0</td>\n      <td>1.0</td>\n      <td>1.0</td>\n      <td>2.0</td>\n      <td>1.0</td>\n      <td>2.0</td>\n      <td>6.0</td>\n      <td>1.0</td>\n      <td>1.0</td>\n      <td>2.0</td>\n      <td>2.0</td>\n      <td>2.0</td>\n      <td>2.0</td>\n      <td>1.0</td>\n      <td>NaN</td>\n      <td>4.0</td>\n      <td>6.0</td>\n      <td>1.0</td>\n      <td>8.0</td>\n      <td>5.0</td>\n      <td>90.0</td>\n      <td>170.0</td>\n      <td>2.0</td>\n      <td>2.0</td>\n      <td>3.0</td>\n      <td>0.0</td>\n      <td>2.0</td>\n      <td>NaN</td>\n      <td>0.0</td>\n    </tr>\n  </tbody>\n</table>\n<p>331528 rows × 32 columns</p>\n</div>"
     },
     "execution_count": 6,
     "metadata": {},
     "output_type": "execute_result"
    }
   ],
   "source": [
    "heart_df"
   ]
  },
  {
   "cell_type": "code",
   "execution_count": 7,
   "id": "6793a3b3",
   "metadata": {
    "pycharm": {
     "name": "#%%\n"
    }
   },
   "outputs": [],
   "source": [
    "#makes no sense to have due to business problem\n",
    "heart_df.drop(columns = ['education_lvl', 'income_level', 'employment_status', 'rent_own', 'health_care_doctors', \\\n",
    "                         'no_doc_bc_cost'], inplace = True)"
   ]
  },
  {
   "cell_type": "code",
   "execution_count": 8,
   "id": "ecf866e1",
   "metadata": {
    "pycharm": {
     "name": "#%%\n"
    }
   },
   "outputs": [],
   "source": [
    "X = heart_df.drop(columns = ['heart_disease', 'state'])\n",
    "y = heart_df.heart_disease"
   ]
  },
  {
   "cell_type": "markdown",
   "id": "7dd2b0fe",
   "metadata": {
    "pycharm": {
     "name": "#%% md\n"
    }
   },
   "source": [
    "# Preprocessing and Model Prep"
   ]
  },
  {
   "cell_type": "code",
   "execution_count": 9,
   "id": "c90eeaca",
   "metadata": {
    "pycharm": {
     "name": "#%%\n"
    }
   },
   "outputs": [],
   "source": [
    "#train-test split with stratification\n",
    "X_train, X_test, y_train, y_test = train_test_split(X,y, stratify = y , random_state = 42)"
   ]
  },
  {
   "cell_type": "code",
   "execution_count": 10,
   "id": "bca29997",
   "metadata": {
    "pycharm": {
     "name": "#%%\n"
    }
   },
   "outputs": [
    {
     "data": {
      "text/plain": "0.0    0.915426\n1.0    0.084574\nName: heart_disease, dtype: float64"
     },
     "execution_count": 10,
     "metadata": {},
     "output_type": "execute_result"
    }
   ],
   "source": [
    "y_train.value_counts(normalize = True)"
   ]
  },
  {
   "cell_type": "markdown",
   "id": "5ccb82ee",
   "metadata": {
    "pycharm": {
     "name": "#%% md\n"
    }
   },
   "source": [
    "Our target is heavily imbalance. As such I will need to SMOTE and use the imblearn version of pipelines. I will smote up to 15%. "
   ]
  },
  {
   "cell_type": "markdown",
   "id": "7d386691",
   "metadata": {
    "pycharm": {
     "name": "#%% md\n"
    }
   },
   "source": [
    "#### Column Transformers"
   ]
  },
  {
   "cell_type": "markdown",
   "id": "83913d8a",
   "metadata": {
    "pycharm": {
     "name": "#%% md\n"
    }
   },
   "source": [
    "column transformer Pipelines will be built to prevent data leakage when we are doing cross validation as we need to scale and one-hot-encode our features. Different column transformers will be made as we will see how our model does with different amount of features."
   ]
  },
  {
   "cell_type": "code",
   "execution_count": 11,
   "id": "88f5199a",
   "metadata": {
    "pycharm": {
     "name": "#%%\n"
    }
   },
   "outputs": [
    {
     "data": {
      "text/plain": "        general_health  physical_health  mental_health  health_insurance  \\\n248413             1.0              0.0            0.0               1.0   \n91003              3.0              0.0            0.0               1.0   \n148075             1.0              0.0           10.0               1.0   \n273325             3.0              0.0            0.0               2.0   \n193206             1.0              0.0            0.0               1.0   \n...                ...              ...            ...               ...   \n298694             1.0              0.0            0.0               1.0   \n82524              3.0             15.0            0.0               1.0   \n289919             2.0              0.0            0.0               1.0   \n130280             5.0              5.0            5.0               1.0   \n229708             1.0              0.0            0.0               1.0   \n\n        last_checkup  excercise_30  sleep  stroke  asthma  skin_cancer  \\\n248413           2.0           1.0    6.0     2.0     2.0          2.0   \n91003            1.0           1.0    6.0     2.0     2.0          2.0   \n148075           2.0           1.0    6.0     2.0     2.0          2.0   \n273325           1.0           1.0    8.0     2.0     2.0          2.0   \n193206           1.0           1.0    8.0     2.0     2.0          2.0   \n...              ...           ...    ...     ...     ...          ...   \n298694           1.0           1.0    8.0     2.0     2.0          2.0   \n82524            1.0           2.0    7.0     2.0     2.0          2.0   \n289919           1.0           1.0    8.0     2.0     2.0          2.0   \n130280           1.0           1.0    6.0     2.0     2.0          2.0   \n229708           1.0           2.0    6.0     2.0     2.0          2.0   \n\n        other_cancer  copd_type_issue  arthritis_anyform  depressive_disorder  \\\n248413           2.0              2.0                2.0                  2.0   \n91003            2.0              2.0                2.0                  2.0   \n148075           2.0              2.0                2.0                  2.0   \n273325           2.0              2.0                2.0                  2.0   \n193206           2.0              2.0                2.0                  2.0   \n...              ...              ...                ...                  ...   \n298694           2.0              2.0                2.0                  2.0   \n82524            2.0              NaN                1.0                  2.0   \n289919           2.0              2.0                2.0                  2.0   \n130280           2.0              2.0                1.0                  1.0   \n229708           2.0              2.0                1.0                  2.0   \n\n        kidney_disease  diabetes  weight_kg  height_m  difficulty_walking  \\\n248413             2.0       3.0       73.0     165.0                 2.0   \n91003              2.0       3.0       55.0     175.0                 2.0   \n148075             2.0       3.0       50.0     168.0                 2.0   \n273325             2.0       3.0       55.0     152.0                 2.0   \n193206             2.0       3.0       62.0     165.0                 2.0   \n...                ...       ...        ...       ...                 ...   \n298694             2.0       3.0       82.0     168.0                 2.0   \n82524              2.0       3.0      100.0     160.0                 1.0   \n289919             2.0       3.0       68.0     168.0                 2.0   \n130280             2.0       1.0       91.0     175.0                 2.0   \n229708             2.0       3.0       86.0     155.0                 2.0   \n\n        smoke100_lifetime  smokeless_tobacco_products  alcohol_consumption_30  \\\n248413                2.0                         3.0                     5.0   \n91003                 2.0                         3.0                     0.0   \n148075                2.0                         3.0                     4.0   \n273325                2.0                         3.0                     0.0   \n193206                2.0                         3.0                     4.0   \n...                   ...                         ...                     ...   \n298694                2.0                         3.0                    30.0   \n82524                 1.0                         3.0                     0.0   \n289919                2.0                         3.0                     2.0   \n130280                2.0                         3.0                     0.0   \n229708                2.0                         3.0                     0.0   \n\n        high_risk_situations  ecigaret  \n248413                   2.0       2.0  \n91003                    2.0       NaN  \n148075                   2.0       2.0  \n273325                   2.0       2.0  \n193206                   2.0       2.0  \n...                      ...       ...  \n298694                   2.0       2.0  \n82524                    2.0       NaN  \n289919                   2.0       2.0  \n130280                   2.0       NaN  \n229708                   2.0       2.0  \n\n[248646 rows x 24 columns]",
      "text/html": "<div>\n<style scoped>\n    .dataframe tbody tr th:only-of-type {\n        vertical-align: middle;\n    }\n\n    .dataframe tbody tr th {\n        vertical-align: top;\n    }\n\n    .dataframe thead th {\n        text-align: right;\n    }\n</style>\n<table border=\"1\" class=\"dataframe\">\n  <thead>\n    <tr style=\"text-align: right;\">\n      <th></th>\n      <th>general_health</th>\n      <th>physical_health</th>\n      <th>mental_health</th>\n      <th>health_insurance</th>\n      <th>last_checkup</th>\n      <th>excercise_30</th>\n      <th>sleep</th>\n      <th>stroke</th>\n      <th>asthma</th>\n      <th>skin_cancer</th>\n      <th>other_cancer</th>\n      <th>copd_type_issue</th>\n      <th>arthritis_anyform</th>\n      <th>depressive_disorder</th>\n      <th>kidney_disease</th>\n      <th>diabetes</th>\n      <th>weight_kg</th>\n      <th>height_m</th>\n      <th>difficulty_walking</th>\n      <th>smoke100_lifetime</th>\n      <th>smokeless_tobacco_products</th>\n      <th>alcohol_consumption_30</th>\n      <th>high_risk_situations</th>\n      <th>ecigaret</th>\n    </tr>\n  </thead>\n  <tbody>\n    <tr>\n      <th>248413</th>\n      <td>1.0</td>\n      <td>0.0</td>\n      <td>0.0</td>\n      <td>1.0</td>\n      <td>2.0</td>\n      <td>1.0</td>\n      <td>6.0</td>\n      <td>2.0</td>\n      <td>2.0</td>\n      <td>2.0</td>\n      <td>2.0</td>\n      <td>2.0</td>\n      <td>2.0</td>\n      <td>2.0</td>\n      <td>2.0</td>\n      <td>3.0</td>\n      <td>73.0</td>\n      <td>165.0</td>\n      <td>2.0</td>\n      <td>2.0</td>\n      <td>3.0</td>\n      <td>5.0</td>\n      <td>2.0</td>\n      <td>2.0</td>\n    </tr>\n    <tr>\n      <th>91003</th>\n      <td>3.0</td>\n      <td>0.0</td>\n      <td>0.0</td>\n      <td>1.0</td>\n      <td>1.0</td>\n      <td>1.0</td>\n      <td>6.0</td>\n      <td>2.0</td>\n      <td>2.0</td>\n      <td>2.0</td>\n      <td>2.0</td>\n      <td>2.0</td>\n      <td>2.0</td>\n      <td>2.0</td>\n      <td>2.0</td>\n      <td>3.0</td>\n      <td>55.0</td>\n      <td>175.0</td>\n      <td>2.0</td>\n      <td>2.0</td>\n      <td>3.0</td>\n      <td>0.0</td>\n      <td>2.0</td>\n      <td>NaN</td>\n    </tr>\n    <tr>\n      <th>148075</th>\n      <td>1.0</td>\n      <td>0.0</td>\n      <td>10.0</td>\n      <td>1.0</td>\n      <td>2.0</td>\n      <td>1.0</td>\n      <td>6.0</td>\n      <td>2.0</td>\n      <td>2.0</td>\n      <td>2.0</td>\n      <td>2.0</td>\n      <td>2.0</td>\n      <td>2.0</td>\n      <td>2.0</td>\n      <td>2.0</td>\n      <td>3.0</td>\n      <td>50.0</td>\n      <td>168.0</td>\n      <td>2.0</td>\n      <td>2.0</td>\n      <td>3.0</td>\n      <td>4.0</td>\n      <td>2.0</td>\n      <td>2.0</td>\n    </tr>\n    <tr>\n      <th>273325</th>\n      <td>3.0</td>\n      <td>0.0</td>\n      <td>0.0</td>\n      <td>2.0</td>\n      <td>1.0</td>\n      <td>1.0</td>\n      <td>8.0</td>\n      <td>2.0</td>\n      <td>2.0</td>\n      <td>2.0</td>\n      <td>2.0</td>\n      <td>2.0</td>\n      <td>2.0</td>\n      <td>2.0</td>\n      <td>2.0</td>\n      <td>3.0</td>\n      <td>55.0</td>\n      <td>152.0</td>\n      <td>2.0</td>\n      <td>2.0</td>\n      <td>3.0</td>\n      <td>0.0</td>\n      <td>2.0</td>\n      <td>2.0</td>\n    </tr>\n    <tr>\n      <th>193206</th>\n      <td>1.0</td>\n      <td>0.0</td>\n      <td>0.0</td>\n      <td>1.0</td>\n      <td>1.0</td>\n      <td>1.0</td>\n      <td>8.0</td>\n      <td>2.0</td>\n      <td>2.0</td>\n      <td>2.0</td>\n      <td>2.0</td>\n      <td>2.0</td>\n      <td>2.0</td>\n      <td>2.0</td>\n      <td>2.0</td>\n      <td>3.0</td>\n      <td>62.0</td>\n      <td>165.0</td>\n      <td>2.0</td>\n      <td>2.0</td>\n      <td>3.0</td>\n      <td>4.0</td>\n      <td>2.0</td>\n      <td>2.0</td>\n    </tr>\n    <tr>\n      <th>...</th>\n      <td>...</td>\n      <td>...</td>\n      <td>...</td>\n      <td>...</td>\n      <td>...</td>\n      <td>...</td>\n      <td>...</td>\n      <td>...</td>\n      <td>...</td>\n      <td>...</td>\n      <td>...</td>\n      <td>...</td>\n      <td>...</td>\n      <td>...</td>\n      <td>...</td>\n      <td>...</td>\n      <td>...</td>\n      <td>...</td>\n      <td>...</td>\n      <td>...</td>\n      <td>...</td>\n      <td>...</td>\n      <td>...</td>\n      <td>...</td>\n    </tr>\n    <tr>\n      <th>298694</th>\n      <td>1.0</td>\n      <td>0.0</td>\n      <td>0.0</td>\n      <td>1.0</td>\n      <td>1.0</td>\n      <td>1.0</td>\n      <td>8.0</td>\n      <td>2.0</td>\n      <td>2.0</td>\n      <td>2.0</td>\n      <td>2.0</td>\n      <td>2.0</td>\n      <td>2.0</td>\n      <td>2.0</td>\n      <td>2.0</td>\n      <td>3.0</td>\n      <td>82.0</td>\n      <td>168.0</td>\n      <td>2.0</td>\n      <td>2.0</td>\n      <td>3.0</td>\n      <td>30.0</td>\n      <td>2.0</td>\n      <td>2.0</td>\n    </tr>\n    <tr>\n      <th>82524</th>\n      <td>3.0</td>\n      <td>15.0</td>\n      <td>0.0</td>\n      <td>1.0</td>\n      <td>1.0</td>\n      <td>2.0</td>\n      <td>7.0</td>\n      <td>2.0</td>\n      <td>2.0</td>\n      <td>2.0</td>\n      <td>2.0</td>\n      <td>NaN</td>\n      <td>1.0</td>\n      <td>2.0</td>\n      <td>2.0</td>\n      <td>3.0</td>\n      <td>100.0</td>\n      <td>160.0</td>\n      <td>1.0</td>\n      <td>1.0</td>\n      <td>3.0</td>\n      <td>0.0</td>\n      <td>2.0</td>\n      <td>NaN</td>\n    </tr>\n    <tr>\n      <th>289919</th>\n      <td>2.0</td>\n      <td>0.0</td>\n      <td>0.0</td>\n      <td>1.0</td>\n      <td>1.0</td>\n      <td>1.0</td>\n      <td>8.0</td>\n      <td>2.0</td>\n      <td>2.0</td>\n      <td>2.0</td>\n      <td>2.0</td>\n      <td>2.0</td>\n      <td>2.0</td>\n      <td>2.0</td>\n      <td>2.0</td>\n      <td>3.0</td>\n      <td>68.0</td>\n      <td>168.0</td>\n      <td>2.0</td>\n      <td>2.0</td>\n      <td>3.0</td>\n      <td>2.0</td>\n      <td>2.0</td>\n      <td>2.0</td>\n    </tr>\n    <tr>\n      <th>130280</th>\n      <td>5.0</td>\n      <td>5.0</td>\n      <td>5.0</td>\n      <td>1.0</td>\n      <td>1.0</td>\n      <td>1.0</td>\n      <td>6.0</td>\n      <td>2.0</td>\n      <td>2.0</td>\n      <td>2.0</td>\n      <td>2.0</td>\n      <td>2.0</td>\n      <td>1.0</td>\n      <td>1.0</td>\n      <td>2.0</td>\n      <td>1.0</td>\n      <td>91.0</td>\n      <td>175.0</td>\n      <td>2.0</td>\n      <td>2.0</td>\n      <td>3.0</td>\n      <td>0.0</td>\n      <td>2.0</td>\n      <td>NaN</td>\n    </tr>\n    <tr>\n      <th>229708</th>\n      <td>1.0</td>\n      <td>0.0</td>\n      <td>0.0</td>\n      <td>1.0</td>\n      <td>1.0</td>\n      <td>2.0</td>\n      <td>6.0</td>\n      <td>2.0</td>\n      <td>2.0</td>\n      <td>2.0</td>\n      <td>2.0</td>\n      <td>2.0</td>\n      <td>1.0</td>\n      <td>2.0</td>\n      <td>2.0</td>\n      <td>3.0</td>\n      <td>86.0</td>\n      <td>155.0</td>\n      <td>2.0</td>\n      <td>2.0</td>\n      <td>3.0</td>\n      <td>0.0</td>\n      <td>2.0</td>\n      <td>2.0</td>\n    </tr>\n  </tbody>\n</table>\n<p>248646 rows × 24 columns</p>\n</div>"
     },
     "execution_count": 11,
     "metadata": {},
     "output_type": "execute_result"
    }
   ],
   "source": [
    "X_train"
   ]
  },
  {
   "cell_type": "code",
   "execution_count": 12,
   "id": "f3d46bfb",
   "metadata": {
    "pycharm": {
     "name": "#%%\n"
    }
   },
   "outputs": [
    {
     "data": {
      "text/plain": "0.0     172226\n30.0     15644\n2.0      11154\n1.0       7804\n3.0       6586\n5.0       5716\n10.0      4157\n15.0      3970\n7.0       3564\n4.0       3368\n20.0      2511\n14.0      2236\n6.0        928\n25.0       901\n99.0       728\n8.0        704\n21.0       479\n12.0       465\n28.0       361\n29.0       159\n18.0       126\n16.0       103\n27.0       102\n17.0        81\n11.0        75\n13.0        66\n22.0        59\n26.0        58\n24.0        55\n23.0        36\n19.0        27\nName: physical_health, dtype: int64"
     },
     "execution_count": 12,
     "metadata": {},
     "output_type": "execute_result"
    }
   ],
   "source": [
    "X_train.physical_health.value_counts()"
   ]
  },
  {
   "cell_type": "code",
   "execution_count": 13,
   "id": "68a979c3",
   "metadata": {
    "pycharm": {
     "name": "#%%\n"
    }
   },
   "outputs": [],
   "source": [
    "continous = ['physical_health', 'mental_health', 'last_checkup' , 'excercise_30', 'sleep', 'weight_kg', \\\n",
    "               'height_m', 'alcohol_consumption_30']\n",
    "\n",
    "categorical = list(X.columns.drop(continous))"
   ]
  },
  {
   "cell_type": "code",
   "execution_count": 14,
   "id": "e78ab2f4",
   "metadata": {
    "pycharm": {
     "name": "#%%\n"
    }
   },
   "outputs": [
    {
     "data": {
      "text/plain": "['general_health',\n 'health_insurance',\n 'stroke',\n 'asthma',\n 'skin_cancer',\n 'other_cancer',\n 'copd_type_issue',\n 'arthritis_anyform',\n 'depressive_disorder',\n 'kidney_disease',\n 'diabetes',\n 'difficulty_walking',\n 'smoke100_lifetime',\n 'smokeless_tobacco_products',\n 'high_risk_situations',\n 'ecigaret']"
     },
     "execution_count": 14,
     "metadata": {},
     "output_type": "execute_result"
    }
   ],
   "source": [
    "categorical"
   ]
  },
  {
   "cell_type": "code",
   "execution_count": 15,
   "id": "26e224f2",
   "metadata": {
    "pycharm": {
     "name": "#%%\n"
    }
   },
   "outputs": [],
   "source": [
    "cat_pipe = Pipeline(steps=[('cat_impute', IterativeImputer(estimator = KNeighborsClassifier(),\\\n",
    "                                                           random_state=42, max_iter = 5)),\n",
    "                              ('ohe', OneHotEncoder(sparse=False, handle_unknown='ignore'))])\n",
    "scale_pipe = Pipeline(steps=[('scale_impute', IterativeImputer(estimator = BayesianRidge(),random_state=42)),\n",
    "                              ('scale', MinMaxScaler())])"
   ]
  },
  {
   "cell_type": "code",
   "execution_count": 16,
   "id": "f9bdedb3",
   "metadata": {
    "pycharm": {
     "name": "#%%\n"
    }
   },
   "outputs": [],
   "source": [
    "#ct for only continous\n",
    "ct_continous = ColumnTransformer(transformers=[\n",
    "    ('scale', scale_pipe, continous)\n",
    "])\n",
    "\n",
    "#ct for categorical only\n",
    "ct_categorical = ColumnTransformer(transformers=[\n",
    "    ('cat', cat_pipe, categorical),\n",
    "])\n",
    "\n",
    "#ct with both continous and categorical\n",
    "ct = ColumnTransformer(transformers=[\n",
    "    ('cat', cat_pipe, categorical),\n",
    "    ('scale', scale_pipe, continous)\n",
    "])"
   ]
  },
  {
   "cell_type": "markdown",
   "id": "ddfdbed5",
   "metadata": {
    "pycharm": {
     "name": "#%% md\n"
    }
   },
   "source": [
    "# Simple Models"
   ]
  },
  {
   "cell_type": "markdown",
   "id": "e762a38d",
   "metadata": {
    "pycharm": {
     "name": "#%% md\n"
    }
   },
   "source": [
    "## Dummy Classifier"
   ]
  },
  {
   "cell_type": "code",
   "execution_count": 17,
   "id": "22c5f3df",
   "metadata": {
    "pycharm": {
     "name": "#%%\n"
    }
   },
   "outputs": [
    {
     "data": {
      "text/plain": "        physical_health  mental_health  last_checkup  excercise_30  sleep  \\\n248413              0.0            0.0           2.0           1.0    6.0   \n91003               0.0            0.0           1.0           1.0    6.0   \n148075              0.0           10.0           2.0           1.0    6.0   \n273325              0.0            0.0           1.0           1.0    8.0   \n193206              0.0            0.0           1.0           1.0    8.0   \n...                 ...            ...           ...           ...    ...   \n298694              0.0            0.0           1.0           1.0    8.0   \n82524              15.0            0.0           1.0           2.0    7.0   \n289919              0.0            0.0           1.0           1.0    8.0   \n130280              5.0            5.0           1.0           1.0    6.0   \n229708              0.0            0.0           1.0           2.0    6.0   \n\n        weight_kg  height_m  alcohol_consumption_30  \n248413       73.0     165.0                     5.0  \n91003        55.0     175.0                     0.0  \n148075       50.0     168.0                     4.0  \n273325       55.0     152.0                     0.0  \n193206       62.0     165.0                     4.0  \n...           ...       ...                     ...  \n298694       82.0     168.0                    30.0  \n82524       100.0     160.0                     0.0  \n289919       68.0     168.0                     2.0  \n130280       91.0     175.0                     0.0  \n229708       86.0     155.0                     0.0  \n\n[248646 rows x 8 columns]",
      "text/html": "<div>\n<style scoped>\n    .dataframe tbody tr th:only-of-type {\n        vertical-align: middle;\n    }\n\n    .dataframe tbody tr th {\n        vertical-align: top;\n    }\n\n    .dataframe thead th {\n        text-align: right;\n    }\n</style>\n<table border=\"1\" class=\"dataframe\">\n  <thead>\n    <tr style=\"text-align: right;\">\n      <th></th>\n      <th>physical_health</th>\n      <th>mental_health</th>\n      <th>last_checkup</th>\n      <th>excercise_30</th>\n      <th>sleep</th>\n      <th>weight_kg</th>\n      <th>height_m</th>\n      <th>alcohol_consumption_30</th>\n    </tr>\n  </thead>\n  <tbody>\n    <tr>\n      <th>248413</th>\n      <td>0.0</td>\n      <td>0.0</td>\n      <td>2.0</td>\n      <td>1.0</td>\n      <td>6.0</td>\n      <td>73.0</td>\n      <td>165.0</td>\n      <td>5.0</td>\n    </tr>\n    <tr>\n      <th>91003</th>\n      <td>0.0</td>\n      <td>0.0</td>\n      <td>1.0</td>\n      <td>1.0</td>\n      <td>6.0</td>\n      <td>55.0</td>\n      <td>175.0</td>\n      <td>0.0</td>\n    </tr>\n    <tr>\n      <th>148075</th>\n      <td>0.0</td>\n      <td>10.0</td>\n      <td>2.0</td>\n      <td>1.0</td>\n      <td>6.0</td>\n      <td>50.0</td>\n      <td>168.0</td>\n      <td>4.0</td>\n    </tr>\n    <tr>\n      <th>273325</th>\n      <td>0.0</td>\n      <td>0.0</td>\n      <td>1.0</td>\n      <td>1.0</td>\n      <td>8.0</td>\n      <td>55.0</td>\n      <td>152.0</td>\n      <td>0.0</td>\n    </tr>\n    <tr>\n      <th>193206</th>\n      <td>0.0</td>\n      <td>0.0</td>\n      <td>1.0</td>\n      <td>1.0</td>\n      <td>8.0</td>\n      <td>62.0</td>\n      <td>165.0</td>\n      <td>4.0</td>\n    </tr>\n    <tr>\n      <th>...</th>\n      <td>...</td>\n      <td>...</td>\n      <td>...</td>\n      <td>...</td>\n      <td>...</td>\n      <td>...</td>\n      <td>...</td>\n      <td>...</td>\n    </tr>\n    <tr>\n      <th>298694</th>\n      <td>0.0</td>\n      <td>0.0</td>\n      <td>1.0</td>\n      <td>1.0</td>\n      <td>8.0</td>\n      <td>82.0</td>\n      <td>168.0</td>\n      <td>30.0</td>\n    </tr>\n    <tr>\n      <th>82524</th>\n      <td>15.0</td>\n      <td>0.0</td>\n      <td>1.0</td>\n      <td>2.0</td>\n      <td>7.0</td>\n      <td>100.0</td>\n      <td>160.0</td>\n      <td>0.0</td>\n    </tr>\n    <tr>\n      <th>289919</th>\n      <td>0.0</td>\n      <td>0.0</td>\n      <td>1.0</td>\n      <td>1.0</td>\n      <td>8.0</td>\n      <td>68.0</td>\n      <td>168.0</td>\n      <td>2.0</td>\n    </tr>\n    <tr>\n      <th>130280</th>\n      <td>5.0</td>\n      <td>5.0</td>\n      <td>1.0</td>\n      <td>1.0</td>\n      <td>6.0</td>\n      <td>91.0</td>\n      <td>175.0</td>\n      <td>0.0</td>\n    </tr>\n    <tr>\n      <th>229708</th>\n      <td>0.0</td>\n      <td>0.0</td>\n      <td>1.0</td>\n      <td>2.0</td>\n      <td>6.0</td>\n      <td>86.0</td>\n      <td>155.0</td>\n      <td>0.0</td>\n    </tr>\n  </tbody>\n</table>\n<p>248646 rows × 8 columns</p>\n</div>"
     },
     "execution_count": 17,
     "metadata": {},
     "output_type": "execute_result"
    }
   ],
   "source": [
    "X_simple = X_train[continous]\n",
    "y_simple = y_train\n",
    "\n",
    "X_simple"
   ]
  },
  {
   "cell_type": "code",
   "execution_count": 18,
   "id": "ec5baba5",
   "metadata": {
    "pycharm": {
     "name": "#%%\n"
    }
   },
   "outputs": [],
   "source": [
    "dummy_simple = ImPipeline(steps=[\n",
    "    ('ct', ct_continous),\n",
    "    ('sm', SMOTE(sampling_strategy= 0.25, random_state=1)),\n",
    "    ('dummy', DummyClassifier(strategy='most_frequent'))\n",
    "]).fit(X_simple, y_simple)"
   ]
  },
  {
   "cell_type": "code",
   "execution_count": 19,
   "id": "275adf37",
   "metadata": {
    "pycharm": {
     "name": "#%%\n"
    }
   },
   "outputs": [],
   "source": [
    "dummy_info = ModelWithCV(dummy_simple, 'dummy', X_simple, y_simple)"
   ]
  },
  {
   "cell_type": "code",
   "execution_count": 20,
   "id": "badf4247",
   "metadata": {
    "pycharm": {
     "name": "#%%\n"
    }
   },
   "outputs": [
    {
     "name": "stderr",
     "output_type": "stream",
     "text": [
      "C:\\Users\\xiao\\anaconda3\\envs\\phase5\\lib\\site-packages\\sklearn\\utils\\deprecation.py:87: FutureWarning: Function plot_roc_curve is deprecated; Function :func:`plot_roc_curve` is deprecated in 1.0 and will be removed in 1.2. Use one of the class methods: :meth:`sklearn.metric.RocCurveDisplay.from_predictions` or :meth:`sklearn.metric.RocCurveDisplay.from_estimator`.\n",
      "  warnings.warn(msg, category=FutureWarning)\n",
      "C:\\Users\\xiao\\anaconda3\\envs\\phase5\\lib\\site-packages\\sklearn\\utils\\deprecation.py:87: FutureWarning: Function plot_confusion_matrix is deprecated; Function `plot_confusion_matrix` is deprecated in 1.0 and will be removed in 1.2. Use one of the class methods: ConfusionMatrixDisplay.from_predictions or ConfusionMatrixDisplay.from_estimator.\n",
      "  warnings.warn(msg, category=FutureWarning)\n"
     ]
    },
    {
     "name": "stdout",
     "output_type": "stream",
     "text": [
      " \n",
      "  f1_score is 0.0 CV Results for `dummy` model:\n",
      "            0.91543 ± 0.00001 accuracy\n",
      "         <sklearn.metrics._plot.confusion_matrix.ConfusionMatrixDisplay object at 0x0000021F8FC31B50> <sklearn.metrics._plot.roc_curve.RocCurveDisplay object at 0x0000021F8FAFF0D0>\n"
     ]
    },
    {
     "data": {
      "text/plain": "<Figure size 432x288 with 1 Axes>",
      "image/png": "[encoded data removed]"
     },
     "metadata": {
      "needs_background": "light"
     },
     "output_type": "display_data"
    },
    {
     "data": {
      "text/plain": "<Figure size 432x288 with 2 Axes>",
      "image/png": "[encoded data removed]"
     },
     "metadata": {
      "needs_background": "light"
     },
     "output_type": "display_data"
    }
   ],
   "source": [
    "dummy_info.print_summary()"
   ]
  },
  {
   "cell_type": "markdown",
   "id": "02f269a3",
   "metadata": {
    "pycharm": {
     "name": "#%% md\n"
    }
   },
   "source": [
    "## Simple Model 1 - Logistic Regression"
   ]
  },
  {
   "cell_type": "code",
   "execution_count": 21,
   "id": "50f75617",
   "metadata": {
    "pycharm": {
     "name": "#%%\n"
    }
   },
   "outputs": [],
   "source": [
    "log1 = ImPipeline(steps=[\n",
    "    ('ct', ct_continous),\n",
    "    ('sm', SMOTE(sampling_strategy= 0.25, random_state=1)),\n",
    "    ('log',LogisticRegression(random_state=42))\n",
    "]).fit(X_simple, y_simple)"
   ]
  },
  {
   "cell_type": "code",
   "execution_count": 22,
   "id": "5a0e70e8",
   "metadata": {
    "pycharm": {
     "name": "#%%\n"
    }
   },
   "outputs": [],
   "source": [
    "log1_info = ModelWithCV(log1, 'log1', X_simple, y_simple)"
   ]
  },
  {
   "cell_type": "code",
   "execution_count": 23,
   "id": "93473da1",
   "metadata": {
    "pycharm": {
     "name": "#%%\n"
    }
   },
   "outputs": [
    {
     "name": "stderr",
     "output_type": "stream",
     "text": [
      "C:\\Users\\xiao\\anaconda3\\envs\\phase5\\lib\\site-packages\\sklearn\\utils\\deprecation.py:87: FutureWarning: Function plot_roc_curve is deprecated; Function :func:`plot_roc_curve` is deprecated in 1.0 and will be removed in 1.2. Use one of the class methods: :meth:`sklearn.metric.RocCurveDisplay.from_predictions` or :meth:`sklearn.metric.RocCurveDisplay.from_estimator`.\n",
      "  warnings.warn(msg, category=FutureWarning)\n",
      "C:\\Users\\xiao\\anaconda3\\envs\\phase5\\lib\\site-packages\\sklearn\\utils\\deprecation.py:87: FutureWarning: Function plot_confusion_matrix is deprecated; Function `plot_confusion_matrix` is deprecated in 1.0 and will be removed in 1.2. Use one of the class methods: ConfusionMatrixDisplay.from_predictions or ConfusionMatrixDisplay.from_estimator.\n",
      "  warnings.warn(msg, category=FutureWarning)\n"
     ]
    },
    {
     "name": "stdout",
     "output_type": "stream",
     "text": [
      " \n",
      "  f1_score is 0.07236090716266927 CV Results for `log1` model:\n",
      "            0.90832 ± 0.00071 accuracy\n",
      "         <sklearn.metrics._plot.confusion_matrix.ConfusionMatrixDisplay object at 0x0000021F914955B0> <sklearn.metrics._plot.roc_curve.RocCurveDisplay object at 0x0000021F8FBB9FD0>\n"
     ]
    },
    {
     "data": {
      "text/plain": "<Figure size 432x288 with 1 Axes>",
      "image/png": "[encoded data removed]"
     },
     "metadata": {
      "needs_background": "light"
     },
     "output_type": "display_data"
    },
    {
     "data": {
      "text/plain": "<Figure size 432x288 with 2 Axes>",
      "image/png": "[encoded data removed]"
     },
     "metadata": {
      "needs_background": "light"
     },
     "output_type": "display_data"
    }
   ],
   "source": [
    "log1_info.print_summary()"
   ]
  },
  {
   "cell_type": "markdown",
   "source": [
    "The LogisticRegression has a better F1 score of .14 compared to the dummy classifier which had a F1 score of 0. The ROC-AUC score is also better by 0.19. The AUC of the logistic regression is 0.69 while the dummy was 0.50. However, the accuracy is slightly lower by 1-2% on the logistic regression (90%) compared to the dummy (92%)."
   ],
   "metadata": {
    "collapsed": false,
    "pycharm": {
     "name": "#%% md\n"
    }
   }
  },
  {
   "cell_type": "code",
   "execution_count": 24,
   "outputs": [],
   "source": [
    "log_pca = ImPipeline(steps=[\n",
    "    ('ct', ct_continous),\n",
    "    ('sm', SMOTE(sampling_strategy= 0.25, random_state=1)),\n",
    "    ('pca', PCA(n_components=.9)),\n",
    "    ('log',LogisticRegression(random_state=42))\n",
    "]).fit(X_simple, y_simple)"
   ],
   "metadata": {
    "collapsed": false,
    "pycharm": {
     "name": "#%%\n"
    }
   }
  },
  {
   "cell_type": "code",
   "execution_count": 25,
   "outputs": [],
   "source": [
    "log_pca_info = ModelWithCV(log_pca, 'log_pca', X_simple, y_simple)"
   ],
   "metadata": {
    "collapsed": false,
    "pycharm": {
     "name": "#%%\n"
    }
   }
  },
  {
   "cell_type": "code",
   "execution_count": 26,
   "outputs": [
    {
     "name": "stderr",
     "output_type": "stream",
     "text": [
      "C:\\Users\\xiao\\anaconda3\\envs\\phase5\\lib\\site-packages\\sklearn\\utils\\deprecation.py:87: FutureWarning: Function plot_roc_curve is deprecated; Function :func:`plot_roc_curve` is deprecated in 1.0 and will be removed in 1.2. Use one of the class methods: :meth:`sklearn.metric.RocCurveDisplay.from_predictions` or :meth:`sklearn.metric.RocCurveDisplay.from_estimator`.\n",
      "  warnings.warn(msg, category=FutureWarning)\n",
      "C:\\Users\\xiao\\anaconda3\\envs\\phase5\\lib\\site-packages\\sklearn\\utils\\deprecation.py:87: FutureWarning: Function plot_confusion_matrix is deprecated; Function `plot_confusion_matrix` is deprecated in 1.0 and will be removed in 1.2. Use one of the class methods: ConfusionMatrixDisplay.from_predictions or ConfusionMatrixDisplay.from_estimator.\n",
      "  warnings.warn(msg, category=FutureWarning)\n"
     ]
    },
    {
     "name": "stdout",
     "output_type": "stream",
     "text": [
      " \n",
      "  f1_score is 0.0036728351462070913 CV Results for `log_pca` model:\n",
      "            0.91489 ± 0.00011 accuracy\n",
      "         <sklearn.metrics._plot.confusion_matrix.ConfusionMatrixDisplay object at 0x0000021F8FAFF3A0> <sklearn.metrics._plot.roc_curve.RocCurveDisplay object at 0x0000021F8FD76A30>\n"
     ]
    },
    {
     "data": {
      "text/plain": "<Figure size 432x288 with 1 Axes>",
      "image/png": "[encoded data removed]"
     },
     "metadata": {
      "needs_background": "light"
     },
     "output_type": "display_data"
    },
    {
     "data": {
      "text/plain": "<Figure size 432x288 with 2 Axes>",
      "image/png": "[encoded data removed]"
     },
     "metadata": {
      "needs_background": "light"
     },
     "output_type": "display_data"
    }
   ],
   "source": [
    "log_pca_info.print_summary()"
   ],
   "metadata": {
    "collapsed": false,
    "pycharm": {
     "name": "#%%\n"
    }
   }
  },
  {
   "cell_type": "markdown",
   "id": "ead5ebf7",
   "metadata": {
    "pycharm": {
     "name": "#%% md\n"
    }
   },
   "source": [
    "## Simple Model 2 - KNN"
   ]
  },
  {
   "cell_type": "code",
   "execution_count": 27,
   "id": "d24b0d05",
   "metadata": {
    "pycharm": {
     "name": "#%%\n"
    }
   },
   "outputs": [],
   "source": [
    "knn1 = ImPipeline(steps=[\n",
    "    ('ct', ct_continous),\n",
    "    ('sm', SMOTE(sampling_strategy= 0.25, random_state=1)),\n",
    "    ('knn1',KNeighborsClassifier())\n",
    "]).fit(X_simple, y_simple)"
   ]
  },
  {
   "cell_type": "code",
   "execution_count": 28,
   "id": "1a422c7f",
   "metadata": {
    "pycharm": {
     "name": "#%%\n"
    }
   },
   "outputs": [],
   "source": [
    "knn1_info = ModelWithCV(knn1, 'knn', X_simple, y_simple)"
   ]
  },
  {
   "cell_type": "code",
   "execution_count": 29,
   "id": "4df14f20",
   "metadata": {
    "pycharm": {
     "name": "#%%\n"
    }
   },
   "outputs": [
    {
     "name": "stderr",
     "output_type": "stream",
     "text": [
      "C:\\Users\\xiao\\anaconda3\\envs\\phase5\\lib\\site-packages\\sklearn\\utils\\deprecation.py:87: FutureWarning: Function plot_roc_curve is deprecated; Function :func:`plot_roc_curve` is deprecated in 1.0 and will be removed in 1.2. Use one of the class methods: :meth:`sklearn.metric.RocCurveDisplay.from_predictions` or :meth:`sklearn.metric.RocCurveDisplay.from_estimator`.\n",
      "  warnings.warn(msg, category=FutureWarning)\n",
      "C:\\Users\\xiao\\anaconda3\\envs\\phase5\\lib\\site-packages\\sklearn\\utils\\deprecation.py:87: FutureWarning: Function plot_confusion_matrix is deprecated; Function `plot_confusion_matrix` is deprecated in 1.0 and will be removed in 1.2. Use one of the class methods: ConfusionMatrixDisplay.from_predictions or ConfusionMatrixDisplay.from_estimator.\n",
      "  warnings.warn(msg, category=FutureWarning)\n"
     ]
    },
    {
     "name": "stdout",
     "output_type": "stream",
     "text": [
      " \n",
      "  f1_score is 0.4918121532007037 CV Results for `knn` model:\n",
      "            0.84951 ± 0.00154 accuracy\n",
      "         <sklearn.metrics._plot.confusion_matrix.ConfusionMatrixDisplay object at 0x0000021F935E0760> <sklearn.metrics._plot.roc_curve.RocCurveDisplay object at 0x0000021F8F709490>\n"
     ]
    },
    {
     "data": {
      "text/plain": "<Figure size 432x288 with 1 Axes>",
      "image/png": "[encoded data removed]"
     },
     "metadata": {
      "needs_background": "light"
     },
     "output_type": "display_data"
    },
    {
     "data": {
      "text/plain": "<Figure size 432x288 with 2 Axes>",
      "image/png": "[encoded data removed]"
     },
     "metadata": {
      "needs_background": "light"
     },
     "output_type": "display_data"
    }
   ],
   "source": [
    "knn1_info.print_summary()"
   ]
  },
  {
   "cell_type": "markdown",
   "source": [
    "The KNN did much better compared to the logistic regression. It has a F1 score of about .50 compared to the logistic regression (0.14). The ROC-AUC is also much better at 0.89 versus 0.69. The accuracy is much lower though, dropping to about 84% compare to 90% from the logistic or even the dummy which was about 92%."
   ],
   "metadata": {
    "collapsed": false,
    "pycharm": {
     "name": "#%% md\n"
    }
   }
  },
  {
   "cell_type": "markdown",
   "id": "19a1b667",
   "metadata": {
    "pycharm": {
     "name": "#%% md\n"
    }
   },
   "source": [
    "## Simple Model 3 - Decision Tree"
   ]
  },
  {
   "cell_type": "code",
   "execution_count": 30,
   "id": "c8972492",
   "metadata": {
    "pycharm": {
     "name": "#%%\n"
    }
   },
   "outputs": [],
   "source": [
    "dtree1 = ImPipeline(steps=[\n",
    "    ('ct', ct_continous),\n",
    "    ('sm', SMOTE(sampling_strategy=0.25, random_state=1)),\n",
    "    ('dtree', DecisionTreeClassifier(random_state=42) )\n",
    "]).fit(X_simple, y_simple)"
   ]
  },
  {
   "cell_type": "code",
   "execution_count": 31,
   "id": "3e90c46d",
   "metadata": {
    "pycharm": {
     "name": "#%%\n"
    }
   },
   "outputs": [
    {
     "name": "stderr",
     "output_type": "stream",
     "text": [
      "C:\\Users\\xiao\\anaconda3\\envs\\phase5\\lib\\site-packages\\sklearn\\utils\\deprecation.py:87: FutureWarning: Function plot_roc_curve is deprecated; Function :func:`plot_roc_curve` is deprecated in 1.0 and will be removed in 1.2. Use one of the class methods: :meth:`sklearn.metric.RocCurveDisplay.from_predictions` or :meth:`sklearn.metric.RocCurveDisplay.from_estimator`.\n",
      "  warnings.warn(msg, category=FutureWarning)\n",
      "C:\\Users\\xiao\\anaconda3\\envs\\phase5\\lib\\site-packages\\sklearn\\utils\\deprecation.py:87: FutureWarning: Function plot_confusion_matrix is deprecated; Function `plot_confusion_matrix` is deprecated in 1.0 and will be removed in 1.2. Use one of the class methods: ConfusionMatrixDisplay.from_predictions or ConfusionMatrixDisplay.from_estimator.\n",
      "  warnings.warn(msg, category=FutureWarning)\n"
     ]
    },
    {
     "name": "stdout",
     "output_type": "stream",
     "text": [
      " \n",
      "  f1_score is 0.8044500069531358 CV Results for `dtree1` model:\n",
      "            0.85559 ± 0.00136 accuracy\n",
      "         <sklearn.metrics._plot.confusion_matrix.ConfusionMatrixDisplay object at 0x0000021F93BC82B0> <sklearn.metrics._plot.roc_curve.RocCurveDisplay object at 0x0000021F93B6EE50>\n"
     ]
    },
    {
     "data": {
      "text/plain": "<Figure size 432x288 with 1 Axes>",
      "image/png": "[encoded data removed]"
     },
     "metadata": {
      "needs_background": "light"
     },
     "output_type": "display_data"
    },
    {
     "data": {
      "text/plain": "<Figure size 432x288 with 2 Axes>",
      "image/png": "[encoded data removed]"
     },
     "metadata": {
      "needs_background": "light"
     },
     "output_type": "display_data"
    }
   ],
   "source": [
    "dtree1_info = ModelWithCV(dtree1, 'dtree1', X_simple, y_simple)\n",
    "dtree1_info.print_summary()"
   ]
  },
  {
   "cell_type": "markdown",
   "source": [
    "Our decision tree performed much better with an F1 score of 0.80, ROC-AUC of 0.99 but with an accuracy of 86%. Though, the ROC-AUC being 0.99 indicates that it is more than likely overfit and as such we will have to take that into account."
   ],
   "metadata": {
    "collapsed": false,
    "pycharm": {
     "name": "#%% md\n"
    }
   }
  },
  {
   "cell_type": "code",
   "execution_count": 32,
   "outputs": [
    {
     "data": {
      "text/plain": "        physical_health  mental_health  last_checkup  excercise_30  sleep  \\\n248413              0.0            0.0           2.0           1.0    6.0   \n91003               0.0            0.0           1.0           1.0    6.0   \n148075              0.0           10.0           2.0           1.0    6.0   \n273325              0.0            0.0           1.0           1.0    8.0   \n193206              0.0            0.0           1.0           1.0    8.0   \n...                 ...            ...           ...           ...    ...   \n298694              0.0            0.0           1.0           1.0    8.0   \n82524              15.0            0.0           1.0           2.0    7.0   \n289919              0.0            0.0           1.0           1.0    8.0   \n130280              5.0            5.0           1.0           1.0    6.0   \n229708              0.0            0.0           1.0           2.0    6.0   \n\n        weight_kg  height_m  alcohol_consumption_30  \n248413       73.0     165.0                     5.0  \n91003        55.0     175.0                     0.0  \n148075       50.0     168.0                     4.0  \n273325       55.0     152.0                     0.0  \n193206       62.0     165.0                     4.0  \n...           ...       ...                     ...  \n298694       82.0     168.0                    30.0  \n82524       100.0     160.0                     0.0  \n289919       68.0     168.0                     2.0  \n130280       91.0     175.0                     0.0  \n229708       86.0     155.0                     0.0  \n\n[248646 rows x 8 columns]",
      "text/html": "<div>\n<style scoped>\n    .dataframe tbody tr th:only-of-type {\n        vertical-align: middle;\n    }\n\n    .dataframe tbody tr th {\n        vertical-align: top;\n    }\n\n    .dataframe thead th {\n        text-align: right;\n    }\n</style>\n<table border=\"1\" class=\"dataframe\">\n  <thead>\n    <tr style=\"text-align: right;\">\n      <th></th>\n      <th>physical_health</th>\n      <th>mental_health</th>\n      <th>last_checkup</th>\n      <th>excercise_30</th>\n      <th>sleep</th>\n      <th>weight_kg</th>\n      <th>height_m</th>\n      <th>alcohol_consumption_30</th>\n    </tr>\n  </thead>\n  <tbody>\n    <tr>\n      <th>248413</th>\n      <td>0.0</td>\n      <td>0.0</td>\n      <td>2.0</td>\n      <td>1.0</td>\n      <td>6.0</td>\n      <td>73.0</td>\n      <td>165.0</td>\n      <td>5.0</td>\n    </tr>\n    <tr>\n      <th>91003</th>\n      <td>0.0</td>\n      <td>0.0</td>\n      <td>1.0</td>\n      <td>1.0</td>\n      <td>6.0</td>\n      <td>55.0</td>\n      <td>175.0</td>\n      <td>0.0</td>\n    </tr>\n    <tr>\n      <th>148075</th>\n      <td>0.0</td>\n      <td>10.0</td>\n      <td>2.0</td>\n      <td>1.0</td>\n      <td>6.0</td>\n      <td>50.0</td>\n      <td>168.0</td>\n      <td>4.0</td>\n    </tr>\n    <tr>\n      <th>273325</th>\n      <td>0.0</td>\n      <td>0.0</td>\n      <td>1.0</td>\n      <td>1.0</td>\n      <td>8.0</td>\n      <td>55.0</td>\n      <td>152.0</td>\n      <td>0.0</td>\n    </tr>\n    <tr>\n      <th>193206</th>\n      <td>0.0</td>\n      <td>0.0</td>\n      <td>1.0</td>\n      <td>1.0</td>\n      <td>8.0</td>\n      <td>62.0</td>\n      <td>165.0</td>\n      <td>4.0</td>\n    </tr>\n    <tr>\n      <th>...</th>\n      <td>...</td>\n      <td>...</td>\n      <td>...</td>\n      <td>...</td>\n      <td>...</td>\n      <td>...</td>\n      <td>...</td>\n      <td>...</td>\n    </tr>\n    <tr>\n      <th>298694</th>\n      <td>0.0</td>\n      <td>0.0</td>\n      <td>1.0</td>\n      <td>1.0</td>\n      <td>8.0</td>\n      <td>82.0</td>\n      <td>168.0</td>\n      <td>30.0</td>\n    </tr>\n    <tr>\n      <th>82524</th>\n      <td>15.0</td>\n      <td>0.0</td>\n      <td>1.0</td>\n      <td>2.0</td>\n      <td>7.0</td>\n      <td>100.0</td>\n      <td>160.0</td>\n      <td>0.0</td>\n    </tr>\n    <tr>\n      <th>289919</th>\n      <td>0.0</td>\n      <td>0.0</td>\n      <td>1.0</td>\n      <td>1.0</td>\n      <td>8.0</td>\n      <td>68.0</td>\n      <td>168.0</td>\n      <td>2.0</td>\n    </tr>\n    <tr>\n      <th>130280</th>\n      <td>5.0</td>\n      <td>5.0</td>\n      <td>1.0</td>\n      <td>1.0</td>\n      <td>6.0</td>\n      <td>91.0</td>\n      <td>175.0</td>\n      <td>0.0</td>\n    </tr>\n    <tr>\n      <th>229708</th>\n      <td>0.0</td>\n      <td>0.0</td>\n      <td>1.0</td>\n      <td>2.0</td>\n      <td>6.0</td>\n      <td>86.0</td>\n      <td>155.0</td>\n      <td>0.0</td>\n    </tr>\n  </tbody>\n</table>\n<p>248646 rows × 8 columns</p>\n</div>"
     },
     "execution_count": 32,
     "metadata": {},
     "output_type": "execute_result"
    }
   ],
   "source": [
    "X_simple"
   ],
   "metadata": {
    "collapsed": false,
    "pycharm": {
     "name": "#%%\n"
    }
   }
  },
  {
   "cell_type": "code",
   "execution_count": 33,
   "outputs": [],
   "source": [
    "#rf\n",
    "rf1 = ImPipeline(steps=[\n",
    "    ('ct', ct_continous),\n",
    "    ('sm', SMOTE(sampling_strategy=0.25, random_state=1)),\n",
    "    ('rf1', RandomForestClassifier(random_state=42) )\n",
    "]).fit(X_simple, y_simple)"
   ],
   "metadata": {
    "collapsed": false,
    "pycharm": {
     "name": "#%%\n"
    }
   }
  },
  {
   "cell_type": "code",
   "execution_count": 34,
   "outputs": [],
   "source": [
    "rf1_info = ModelWithCV(rf1, 'rf1', X_simple, y_simple)"
   ],
   "metadata": {
    "collapsed": false,
    "pycharm": {
     "name": "#%%\n"
    }
   }
  },
  {
   "cell_type": "code",
   "execution_count": 35,
   "outputs": [
    {
     "name": "stderr",
     "output_type": "stream",
     "text": [
      "C:\\Users\\xiao\\anaconda3\\envs\\phase5\\lib\\site-packages\\sklearn\\utils\\deprecation.py:87: FutureWarning: Function plot_roc_curve is deprecated; Function :func:`plot_roc_curve` is deprecated in 1.0 and will be removed in 1.2. Use one of the class methods: :meth:`sklearn.metric.RocCurveDisplay.from_predictions` or :meth:`sklearn.metric.RocCurveDisplay.from_estimator`.\n",
      "  warnings.warn(msg, category=FutureWarning)\n",
      "C:\\Users\\xiao\\anaconda3\\envs\\phase5\\lib\\site-packages\\sklearn\\utils\\deprecation.py:87: FutureWarning: Function plot_confusion_matrix is deprecated; Function `plot_confusion_matrix` is deprecated in 1.0 and will be removed in 1.2. Use one of the class methods: ConfusionMatrixDisplay.from_predictions or ConfusionMatrixDisplay.from_estimator.\n",
      "  warnings.warn(msg, category=FutureWarning)\n"
     ]
    },
    {
     "name": "stdout",
     "output_type": "stream",
     "text": [
      " \n",
      "  f1_score is 0.8096406330035316 CV Results for `rf1` model:\n",
      "            0.89427 ± 0.00138 accuracy\n",
      "         <sklearn.metrics._plot.confusion_matrix.ConfusionMatrixDisplay object at 0x0000021F93CB9D30> <sklearn.metrics._plot.roc_curve.RocCurveDisplay object at 0x0000021F93B93A00>\n"
     ]
    },
    {
     "data": {
      "text/plain": "<Figure size 432x288 with 1 Axes>",
      "image/png": "[encoded data removed]"
     },
     "metadata": {
      "needs_background": "light"
     },
     "output_type": "display_data"
    },
    {
     "data": {
      "text/plain": "<Figure size 432x288 with 2 Axes>",
      "image/png": "[encoded data removed]"
     },
     "metadata": {
      "needs_background": "light"
     },
     "output_type": "display_data"
    }
   ],
   "source": [
    "rf1_info.print_summary()"
   ],
   "metadata": {
    "collapsed": false,
    "pycharm": {
     "name": "#%%\n"
    }
   }
  },
  {
   "cell_type": "markdown",
   "source": [
    "# Simple Model 4 - XGBoost"
   ],
   "metadata": {
    "collapsed": false,
    "pycharm": {
     "name": "#%% md\n"
    }
   }
  },
  {
   "cell_type": "code",
   "execution_count": 36,
   "outputs": [],
   "source": [
    "xg1 = ImPipeline(steps=[\n",
    "    ('ct', ct_continous),\n",
    "    ('sm', SMOTE(sampling_strategy=0.25, random_state=1)),\n",
    "    ('xg1', XGBClassifier(random_state= 42) )\n",
    "]).fit(X_simple, y_simple)"
   ],
   "metadata": {
    "collapsed": false,
    "pycharm": {
     "name": "#%%\n"
    }
   }
  },
  {
   "cell_type": "code",
   "execution_count": 37,
   "outputs": [
    {
     "name": "stderr",
     "output_type": "stream",
     "text": [
      "C:\\Users\\xiao\\anaconda3\\envs\\phase5\\lib\\site-packages\\sklearn\\utils\\deprecation.py:87: FutureWarning: Function plot_roc_curve is deprecated; Function :func:`plot_roc_curve` is deprecated in 1.0 and will be removed in 1.2. Use one of the class methods: :meth:`sklearn.metric.RocCurveDisplay.from_predictions` or :meth:`sklearn.metric.RocCurveDisplay.from_estimator`.\n",
      "  warnings.warn(msg, category=FutureWarning)\n",
      "C:\\Users\\xiao\\anaconda3\\envs\\phase5\\lib\\site-packages\\sklearn\\utils\\deprecation.py:87: FutureWarning: Function plot_confusion_matrix is deprecated; Function `plot_confusion_matrix` is deprecated in 1.0 and will be removed in 1.2. Use one of the class methods: ConfusionMatrixDisplay.from_predictions or ConfusionMatrixDisplay.from_estimator.\n",
      "  warnings.warn(msg, category=FutureWarning)\n"
     ]
    },
    {
     "name": "stdout",
     "output_type": "stream",
     "text": [
      " \n",
      "  f1_score is 0.054079986043874574 CV Results for `xg1` model:\n",
      "            0.91023 ± 0.00056 accuracy\n",
      "         <sklearn.metrics._plot.confusion_matrix.ConfusionMatrixDisplay object at 0x0000021FA2D54190> <sklearn.metrics._plot.roc_curve.RocCurveDisplay object at 0x0000021F8FD76D60>\n"
     ]
    },
    {
     "data": {
      "text/plain": "<Figure size 432x288 with 1 Axes>",
      "image/png": "[encoded data removed]"
     },
     "metadata": {
      "needs_background": "light"
     },
     "output_type": "display_data"
    },
    {
     "data": {
      "text/plain": "<Figure size 432x288 with 2 Axes>",
      "image/png": "[encoded data removed]"
     },
     "metadata": {
      "needs_background": "light"
     },
     "output_type": "display_data"
    }
   ],
   "source": [
    "xg1_info = ModelWithCV(xg1, 'xg1', X_simple, y_simple)\n",
    "xg1_info.print_summary()"
   ],
   "metadata": {
    "collapsed": false,
    "pycharm": {
     "name": "#%%\n"
    }
   }
  },
  {
   "cell_type": "markdown",
   "source": [
    "# Grid Search on the Simple Models"
   ],
   "metadata": {
    "collapsed": false,
    "pycharm": {
     "name": "#%% md\n"
    }
   }
  },
  {
   "cell_type": "code",
   "execution_count": 38,
   "outputs": [],
   "source": [
    "### Logistic Regression"
   ],
   "metadata": {
    "collapsed": false,
    "pycharm": {
     "name": "#%%\n"
    }
   }
  },
  {
   "cell_type": "code",
   "execution_count": 39,
   "outputs": [],
   "source": [
    "# log1_params = {\n",
    "#     'log__C' : [10,100,1000],\n",
    "#     'log__max_iter' : [10,20,30],\n",
    "#     'log__penalty' : ['l1', 'l2'],\n",
    "#     'log__solver' : ['saga', 'liblinear']\n",
    "# }"
   ],
   "metadata": {
    "collapsed": false,
    "pycharm": {
     "name": "#%%\n"
    }
   }
  },
  {
   "cell_type": "code",
   "execution_count": 40,
   "outputs": [],
   "source": [
    "# log_gs = GridSearchCV(estimator=log1, param_grid=log1_params, n_jobs=-1).fit(X_simple,y_simple)"
   ],
   "metadata": {
    "collapsed": false,
    "pycharm": {
     "name": "#%%\n"
    }
   }
  },
  {
   "cell_type": "code",
   "execution_count": 41,
   "outputs": [],
   "source": [
    "# joblib.dump(log_gs, './joblib_models/log_gs.sav')"
   ],
   "metadata": {
    "collapsed": false,
    "pycharm": {
     "name": "#%%\n"
    }
   }
  },
  {
   "cell_type": "code",
   "execution_count": 42,
   "outputs": [],
   "source": [
    "# log1_tune = ModelWithCV(log_gs.best_estimator_,'log1_tune', X_simple, y_simple)"
   ],
   "metadata": {
    "collapsed": false,
    "pycharm": {
     "name": "#%%\n"
    }
   }
  },
  {
   "cell_type": "code",
   "execution_count": 43,
   "outputs": [],
   "source": [
    "# joblib.dump(log1_tune, './joblib_models/log1_tune.sav')"
   ],
   "metadata": {
    "collapsed": false,
    "pycharm": {
     "name": "#%%\n"
    }
   }
  },
  {
   "cell_type": "code",
   "execution_count": 44,
   "outputs": [],
   "source": [
    "# log1_tune.print_summary()"
   ],
   "metadata": {
    "collapsed": false,
    "pycharm": {
     "name": "#%%\n"
    }
   }
  },
  {
   "cell_type": "markdown",
   "source": [
    "### KNN"
   ],
   "metadata": {
    "collapsed": false,
    "pycharm": {
     "name": "#%% md\n"
    }
   }
  },
  {
   "cell_type": "code",
   "execution_count": 45,
   "outputs": [],
   "source": [
    "# knn_params = {\n",
    "#     'knn1__n_neighbors': [5,10,20],\n",
    "#     'knn1__metric' : ['minkowski', 'euclidean']\n",
    "# }"
   ],
   "metadata": {
    "collapsed": false,
    "pycharm": {
     "name": "#%%\n"
    }
   }
  },
  {
   "cell_type": "code",
   "execution_count": 46,
   "outputs": [],
   "source": [
    "# knn_gs = GridSearchCV(estimator=knn1, param_grid=knn_params, n_jobs=-1).fit(X_simple,y_simple)"
   ],
   "metadata": {
    "collapsed": false,
    "pycharm": {
     "name": "#%%\n"
    }
   }
  },
  {
   "cell_type": "code",
   "execution_count": 47,
   "outputs": [],
   "source": [
    "# joblib.dump(knn_gs, './joblib_models/knn_gs.sav')"
   ],
   "metadata": {
    "collapsed": false,
    "pycharm": {
     "name": "#%%\n"
    }
   }
  },
  {
   "cell_type": "code",
   "execution_count": 48,
   "outputs": [],
   "source": [
    "# knn1_tune = ModelWithCV(knn_gs.best_estimator_,'knn1_tune', X_simple, y_simple)"
   ],
   "metadata": {
    "collapsed": false,
    "pycharm": {
     "name": "#%%\n"
    }
   }
  },
  {
   "cell_type": "code",
   "execution_count": 49,
   "outputs": [],
   "source": [
    "# joblib.dump(knn1_tune, './joblib_models/knn1_tune.sav')"
   ],
   "metadata": {
    "collapsed": false,
    "pycharm": {
     "name": "#%%\n"
    }
   }
  },
  {
   "cell_type": "code",
   "execution_count": 50,
   "outputs": [],
   "source": [
    "# knn1_tune.print_summary()"
   ],
   "metadata": {
    "collapsed": false,
    "pycharm": {
     "name": "#%%\n"
    }
   }
  },
  {
   "cell_type": "markdown",
   "source": [
    "### Decision Trees"
   ],
   "metadata": {
    "collapsed": false,
    "pycharm": {
     "name": "#%% md\n"
    }
   }
  },
  {
   "cell_type": "code",
   "execution_count": 51,
   "outputs": [],
   "source": [
    "# dtree1_params = {\n",
    "#     'dtree__criterion' : ['gini', 'entropy'],\n",
    "#     'dtree__max_depth' : [5,10,20],\n",
    "#     'dtree__min_samples_split' : [1000, 10000, 50000]\n",
    "# }"
   ],
   "metadata": {
    "collapsed": false,
    "pycharm": {
     "name": "#%%\n"
    }
   }
  },
  {
   "cell_type": "code",
   "execution_count": 52,
   "outputs": [],
   "source": [
    "# dtree1_gs = GridSearchCV(estimator=dtree1, param_grid=dtree1_params, n_jobs=-1, verbose=3).fit(X_simple,y_simple)"
   ],
   "metadata": {
    "collapsed": false,
    "pycharm": {
     "name": "#%%\n"
    }
   }
  },
  {
   "cell_type": "code",
   "execution_count": 53,
   "outputs": [],
   "source": [
    "# joblib.dump(dtree1_gs, './joblib_models/dtree1_gs.sav')"
   ],
   "metadata": {
    "collapsed": false,
    "pycharm": {
     "name": "#%%\n"
    }
   }
  },
  {
   "cell_type": "code",
   "execution_count": 54,
   "outputs": [],
   "source": [
    "# dtree1_tune = ModelWithCV(dtree1_gs.best_estimator_,'dtree1_tune', X_simple, y_simple)\n",
    "# dtree1_tune.print_summary()"
   ],
   "metadata": {
    "collapsed": false,
    "pycharm": {
     "name": "#%%\n"
    }
   }
  },
  {
   "cell_type": "code",
   "execution_count": 55,
   "outputs": [],
   "source": [
    "# joblib.dump(dtree1_tune, './joblib_models/dtree1_tune.sav')"
   ],
   "metadata": {
    "collapsed": false,
    "pycharm": {
     "name": "#%%\n"
    }
   }
  },
  {
   "cell_type": "markdown",
   "source": [
    "# Does only Categorical perform better?"
   ],
   "metadata": {
    "collapsed": false,
    "pycharm": {
     "name": "#%% md\n"
    }
   }
  },
  {
   "cell_type": "code",
   "execution_count": 56,
   "outputs": [],
   "source": [
    "X_categorical = X_train.drop(columns = continous)"
   ],
   "metadata": {
    "collapsed": false,
    "pycharm": {
     "name": "#%%\n"
    }
   }
  },
  {
   "cell_type": "code",
   "execution_count": 57,
   "outputs": [],
   "source": [
    "y_categorical = y_train"
   ],
   "metadata": {
    "collapsed": false,
    "pycharm": {
     "name": "#%%\n"
    }
   }
  },
  {
   "cell_type": "code",
   "execution_count": 58,
   "outputs": [
    {
     "name": "stderr",
     "output_type": "stream",
     "text": [
      "C:\\Users\\xiao\\anaconda3\\envs\\phase5\\lib\\site-packages\\sklearn\\impute\\_iterative.py:700: ConvergenceWarning: [IterativeImputer] Early stopping criterion not reached.\n",
      "  warnings.warn(\n"
     ]
    }
   ],
   "source": [
    "log_cate = ImPipeline(steps=[\n",
    "    ('ct', ct_categorical),\n",
    "    ('sm', SMOTE(sampling_strategy= 0.25, random_state=1)),\n",
    "    ('log_cate',LogisticRegression(random_state=42))\n",
    "]).fit(X_categorical, y_categorical)"
   ],
   "metadata": {
    "collapsed": false,
    "pycharm": {
     "name": "#%%\n"
    }
   }
  },
  {
   "cell_type": "code",
   "execution_count": 59,
   "outputs": [],
   "source": [
    "log_cate_info = ModelWithCV(log_cate, 'log_cate', X_categorical, y_categorical)"
   ],
   "metadata": {
    "collapsed": false,
    "pycharm": {
     "name": "#%%\n"
    }
   }
  },
  {
   "cell_type": "code",
   "execution_count": 86,
   "outputs": [
    {
     "data": {
      "text/plain": "['./joblib_models/log_cate_info.sav']"
     },
     "execution_count": 86,
     "metadata": {},
     "output_type": "execute_result"
    }
   ],
   "source": [
    "joblib.dump(log_cate_info, './joblib_models/log_cate_info.sav')"
   ],
   "metadata": {
    "collapsed": false,
    "pycharm": {
     "name": "#%%\n"
    }
   }
  },
  {
   "cell_type": "code",
   "execution_count": 60,
   "outputs": [
    {
     "name": "stderr",
     "output_type": "stream",
     "text": [
      "C:\\Users\\xiao\\anaconda3\\envs\\phase5\\lib\\site-packages\\sklearn\\utils\\deprecation.py:87: FutureWarning: Function plot_roc_curve is deprecated; Function :func:`plot_roc_curve` is deprecated in 1.0 and will be removed in 1.2. Use one of the class methods: :meth:`sklearn.metric.RocCurveDisplay.from_predictions` or :meth:`sklearn.metric.RocCurveDisplay.from_estimator`.\n",
      "  warnings.warn(msg, category=FutureWarning)\n",
      "C:\\Users\\xiao\\anaconda3\\envs\\phase5\\lib\\site-packages\\sklearn\\utils\\deprecation.py:87: FutureWarning: Function plot_confusion_matrix is deprecated; Function `plot_confusion_matrix` is deprecated in 1.0 and will be removed in 1.2. Use one of the class methods: ConfusionMatrixDisplay.from_predictions or ConfusionMatrixDisplay.from_estimator.\n",
      "  warnings.warn(msg, category=FutureWarning)\n"
     ]
    },
    {
     "name": "stdout",
     "output_type": "stream",
     "text": [
      " \n",
      "  f1_score is 0.3284908933217693 CV Results for `log_cate` model:\n",
      "            0.90040 ± 0.00200 accuracy\n",
      "         <sklearn.metrics._plot.confusion_matrix.ConfusionMatrixDisplay object at 0x0000021FA2F04CA0> <sklearn.metrics._plot.roc_curve.RocCurveDisplay object at 0x0000021FA2E1CEB0>\n"
     ]
    },
    {
     "data": {
      "text/plain": "<Figure size 432x288 with 1 Axes>",
      "image/png": "[encoded data removed]"
     },
     "metadata": {
      "needs_background": "light"
     },
     "output_type": "display_data"
    },
    {
     "data": {
      "text/plain": "<Figure size 432x288 with 2 Axes>",
      "image/png": "[encoded data removed]"
     },
     "metadata": {
      "needs_background": "light"
     },
     "output_type": "display_data"
    }
   ],
   "source": [
    "log_cate_info.print_summary()"
   ],
   "metadata": {
    "collapsed": false,
    "pycharm": {
     "name": "#%%\n"
    }
   }
  },
  {
   "cell_type": "code",
   "execution_count": 61,
   "outputs": [
    {
     "name": "stderr",
     "output_type": "stream",
     "text": [
      "C:\\Users\\xiao\\anaconda3\\envs\\phase5\\lib\\site-packages\\sklearn\\impute\\_iterative.py:700: ConvergenceWarning: [IterativeImputer] Early stopping criterion not reached.\n",
      "  warnings.warn(\n"
     ]
    }
   ],
   "source": [
    "log_pca_cate = ImPipeline(steps=[\n",
    "    ('ct', ct_categorical),\n",
    "    ('sm', SMOTE(sampling_strategy= 0.25, random_state=1)),\n",
    "    ('pca_cate', PCA(n_components=.9)),\n",
    "    ('log_cate',LogisticRegression(random_state=42))\n",
    "]).fit(X_categorical, y_categorical)"
   ],
   "metadata": {
    "collapsed": false,
    "pycharm": {
     "name": "#%%\n"
    }
   }
  },
  {
   "cell_type": "code",
   "execution_count": 62,
   "outputs": [],
   "source": [
    "log_pca_cate_info = ModelWithCV(log_pca_cate, 'log_pca_cate', X_categorical, y_categorical)"
   ],
   "metadata": {
    "collapsed": false,
    "pycharm": {
     "name": "#%%\n"
    }
   }
  },
  {
   "cell_type": "code",
   "execution_count": 85,
   "outputs": [
    {
     "data": {
      "text/plain": "['./joblib_models/log_pca_cate_info.sav']"
     },
     "execution_count": 85,
     "metadata": {},
     "output_type": "execute_result"
    }
   ],
   "source": [
    "joblib.dump(log_pca_cate_info, './joblib_models/log_pca_cate_info.sav')"
   ],
   "metadata": {
    "collapsed": false,
    "pycharm": {
     "name": "#%%\n"
    }
   }
  },
  {
   "cell_type": "code",
   "execution_count": 63,
   "outputs": [
    {
     "name": "stderr",
     "output_type": "stream",
     "text": [
      "C:\\Users\\xiao\\anaconda3\\envs\\phase5\\lib\\site-packages\\sklearn\\utils\\deprecation.py:87: FutureWarning: Function plot_roc_curve is deprecated; Function :func:`plot_roc_curve` is deprecated in 1.0 and will be removed in 1.2. Use one of the class methods: :meth:`sklearn.metric.RocCurveDisplay.from_predictions` or :meth:`sklearn.metric.RocCurveDisplay.from_estimator`.\n",
      "  warnings.warn(msg, category=FutureWarning)\n",
      "C:\\Users\\xiao\\anaconda3\\envs\\phase5\\lib\\site-packages\\sklearn\\utils\\deprecation.py:87: FutureWarning: Function plot_confusion_matrix is deprecated; Function `plot_confusion_matrix` is deprecated in 1.0 and will be removed in 1.2. Use one of the class methods: ConfusionMatrixDisplay.from_predictions or ConfusionMatrixDisplay.from_estimator.\n",
      "  warnings.warn(msg, category=FutureWarning)\n"
     ]
    },
    {
     "name": "stdout",
     "output_type": "stream",
     "text": [
      " \n",
      "  f1_score is 0.29486244971788017 CV Results for `log_pca_cate` model:\n",
      "            0.89504 ± 0.00176 accuracy\n",
      "         <sklearn.metrics._plot.confusion_matrix.ConfusionMatrixDisplay object at 0x0000021FA2E259A0> <sklearn.metrics._plot.roc_curve.RocCurveDisplay object at 0x0000021FA2F57DC0>\n"
     ]
    },
    {
     "data": {
      "text/plain": "<Figure size 432x288 with 1 Axes>",
      "image/png": "[encoded data removed]"
     },
     "metadata": {
      "needs_background": "light"
     },
     "output_type": "display_data"
    },
    {
     "data": {
      "text/plain": "<Figure size 432x288 with 2 Axes>",
      "image/png": "[encoded data removed]"
     },
     "metadata": {
      "needs_background": "light"
     },
     "output_type": "display_data"
    }
   ],
   "source": [
    "log_pca_cate_info.print_summary()"
   ],
   "metadata": {
    "collapsed": false,
    "pycharm": {
     "name": "#%%\n"
    }
   }
  },
  {
   "cell_type": "markdown",
   "source": [
    "### KNN"
   ],
   "metadata": {
    "collapsed": false,
    "pycharm": {
     "name": "#%% md\n"
    }
   }
  },
  {
   "cell_type": "code",
   "execution_count": 64,
   "outputs": [
    {
     "name": "stderr",
     "output_type": "stream",
     "text": [
      "C:\\Users\\xiao\\anaconda3\\envs\\phase5\\lib\\site-packages\\sklearn\\impute\\_iterative.py:700: ConvergenceWarning: [IterativeImputer] Early stopping criterion not reached.\n",
      "  warnings.warn(\n"
     ]
    }
   ],
   "source": [
    "knn_cate = ImPipeline(steps=[\n",
    "    ('ct', ct_categorical),\n",
    "    ('sm', SMOTE(sampling_strategy= 0.25, random_state=1)),\n",
    "    ('knn_cate',KNeighborsClassifier())\n",
    "]).fit(X_categorical, y_categorical)"
   ],
   "metadata": {
    "collapsed": false,
    "pycharm": {
     "name": "#%%\n"
    }
   }
  },
  {
   "cell_type": "code",
   "execution_count": 65,
   "outputs": [],
   "source": [
    "knn_cate_info = ModelWithCV(knn_cate, 'knn_cate', X_categorical, y_categorical)"
   ],
   "metadata": {
    "collapsed": false,
    "pycharm": {
     "name": "#%%\n"
    }
   }
  },
  {
   "cell_type": "code",
   "execution_count": 84,
   "outputs": [
    {
     "data": {
      "text/plain": "['./joblib_models/knn_cate_info.sav']"
     },
     "execution_count": 84,
     "metadata": {},
     "output_type": "execute_result"
    }
   ],
   "source": [
    "joblib.dump(knn_cate_info, './joblib_models/knn_cate_info.sav')"
   ],
   "metadata": {
    "collapsed": false,
    "pycharm": {
     "name": "#%%\n"
    }
   }
  },
  {
   "cell_type": "code",
   "execution_count": 66,
   "outputs": [
    {
     "name": "stderr",
     "output_type": "stream",
     "text": [
      "C:\\Users\\xiao\\anaconda3\\envs\\phase5\\lib\\site-packages\\sklearn\\utils\\deprecation.py:87: FutureWarning: Function plot_roc_curve is deprecated; Function :func:`plot_roc_curve` is deprecated in 1.0 and will be removed in 1.2. Use one of the class methods: :meth:`sklearn.metric.RocCurveDisplay.from_predictions` or :meth:`sklearn.metric.RocCurveDisplay.from_estimator`.\n",
      "  warnings.warn(msg, category=FutureWarning)\n",
      "C:\\Users\\xiao\\anaconda3\\envs\\phase5\\lib\\site-packages\\sklearn\\utils\\deprecation.py:87: FutureWarning: Function plot_confusion_matrix is deprecated; Function `plot_confusion_matrix` is deprecated in 1.0 and will be removed in 1.2. Use one of the class methods: ConfusionMatrixDisplay.from_predictions or ConfusionMatrixDisplay.from_estimator.\n",
      "  warnings.warn(msg, category=FutureWarning)\n"
     ]
    },
    {
     "name": "stdout",
     "output_type": "stream",
     "text": [
      " \n",
      "  f1_score is 0.32518223989396955 CV Results for `knn_cate` model:\n",
      "            0.90369 ± 0.00136 accuracy\n",
      "         <sklearn.metrics._plot.confusion_matrix.ConfusionMatrixDisplay object at 0x0000021FA3107DF0> <sklearn.metrics._plot.roc_curve.RocCurveDisplay object at 0x0000021F8FAFFFD0>\n"
     ]
    },
    {
     "data": {
      "text/plain": "<Figure size 432x288 with 1 Axes>",
      "image/png": "[encoded data removed]"
     },
     "metadata": {
      "needs_background": "light"
     },
     "output_type": "display_data"
    },
    {
     "data": {
      "text/plain": "<Figure size 432x288 with 2 Axes>",
      "image/png": "[encoded data removed]"
     },
     "metadata": {
      "needs_background": "light"
     },
     "output_type": "display_data"
    }
   ],
   "source": [
    "knn_cate_info.print_summary()"
   ],
   "metadata": {
    "collapsed": false,
    "pycharm": {
     "name": "#%%\n"
    }
   }
  },
  {
   "cell_type": "markdown",
   "source": [
    "### Decision Tree/ RF"
   ],
   "metadata": {
    "collapsed": false,
    "pycharm": {
     "name": "#%% md\n"
    }
   }
  },
  {
   "cell_type": "code",
   "execution_count": 68,
   "outputs": [
    {
     "name": "stderr",
     "output_type": "stream",
     "text": [
      "C:\\Users\\xiao\\anaconda3\\envs\\phase5\\lib\\site-packages\\sklearn\\impute\\_iterative.py:700: ConvergenceWarning: [IterativeImputer] Early stopping criterion not reached.\n",
      "  warnings.warn(\n"
     ]
    }
   ],
   "source": [
    "dtree_cate = ImPipeline(steps=[\n",
    "    ('ct', ct_categorical),\n",
    "    ('sm', SMOTE(sampling_strategy=0.25, random_state=1)),\n",
    "    ('dtree', DecisionTreeClassifier(random_state=42) )\n",
    "]).fit(X_categorical, y_categorical)"
   ],
   "metadata": {
    "collapsed": false,
    "pycharm": {
     "name": "#%%\n"
    }
   }
  },
  {
   "cell_type": "code",
   "execution_count": 69,
   "outputs": [],
   "source": [
    "dtree_cate_info = ModelWithCV(dtree_cate, 'dtree_cate', X_categorical, y_categorical)"
   ],
   "metadata": {
    "collapsed": false,
    "pycharm": {
     "name": "#%%\n"
    }
   }
  },
  {
   "cell_type": "code",
   "execution_count": 83,
   "outputs": [
    {
     "data": {
      "text/plain": "['./joblib_models/dtree_cate_info.sav']"
     },
     "execution_count": 83,
     "metadata": {},
     "output_type": "execute_result"
    }
   ],
   "source": [
    "joblib.dump(dtree_cate_info, './joblib_models/dtree_cate_info.sav')"
   ],
   "metadata": {
    "collapsed": false,
    "pycharm": {
     "name": "#%%\n"
    }
   }
  },
  {
   "cell_type": "code",
   "execution_count": 70,
   "outputs": [
    {
     "name": "stderr",
     "output_type": "stream",
     "text": [
      "C:\\Users\\xiao\\anaconda3\\envs\\phase5\\lib\\site-packages\\sklearn\\utils\\deprecation.py:87: FutureWarning: Function plot_roc_curve is deprecated; Function :func:`plot_roc_curve` is deprecated in 1.0 and will be removed in 1.2. Use one of the class methods: :meth:`sklearn.metric.RocCurveDisplay.from_predictions` or :meth:`sklearn.metric.RocCurveDisplay.from_estimator`.\n",
      "  warnings.warn(msg, category=FutureWarning)\n",
      "C:\\Users\\xiao\\anaconda3\\envs\\phase5\\lib\\site-packages\\sklearn\\utils\\deprecation.py:87: FutureWarning: Function plot_confusion_matrix is deprecated; Function `plot_confusion_matrix` is deprecated in 1.0 and will be removed in 1.2. Use one of the class methods: ConfusionMatrixDisplay.from_predictions or ConfusionMatrixDisplay.from_estimator.\n",
      "  warnings.warn(msg, category=FutureWarning)\n"
     ]
    },
    {
     "name": "stdout",
     "output_type": "stream",
     "text": [
      " \n",
      "  f1_score is 0.3866878923497432 CV Results for `dtree_cate` model:\n",
      "            0.90045 ± 0.00119 accuracy\n",
      "         <sklearn.metrics._plot.confusion_matrix.ConfusionMatrixDisplay object at 0x0000021F8824EB80> <sklearn.metrics._plot.roc_curve.RocCurveDisplay object at 0x0000021F8F682BE0>\n"
     ]
    },
    {
     "data": {
      "text/plain": "<Figure size 432x288 with 1 Axes>",
      "image/png": "[encoded data removed]"
     },
     "metadata": {
      "needs_background": "light"
     },
     "output_type": "display_data"
    },
    {
     "data": {
      "text/plain": "<Figure size 432x288 with 2 Axes>",
      "image/png": "[encoded data removed]"
     },
     "metadata": {
      "needs_background": "light"
     },
     "output_type": "display_data"
    }
   ],
   "source": [
    "dtree_cate_info.print_summary()"
   ],
   "metadata": {
    "collapsed": false,
    "pycharm": {
     "name": "#%%\n"
    }
   }
  },
  {
   "cell_type": "code",
   "execution_count": null,
   "outputs": [],
   "source": [],
   "metadata": {
    "collapsed": false,
    "pycharm": {
     "name": "#%%\n"
    }
   }
  },
  {
   "cell_type": "code",
   "execution_count": 71,
   "outputs": [
    {
     "name": "stderr",
     "output_type": "stream",
     "text": [
      "C:\\Users\\xiao\\anaconda3\\envs\\phase5\\lib\\site-packages\\sklearn\\impute\\_iterative.py:700: ConvergenceWarning: [IterativeImputer] Early stopping criterion not reached.\n",
      "  warnings.warn(\n"
     ]
    }
   ],
   "source": [
    "rf_cate = ImPipeline(steps=[\n",
    "    ('ct', ct_categorical),\n",
    "    ('sm', SMOTE(sampling_strategy=0.25, random_state=1)),\n",
    "    ('rf_cate', RandomForestClassifier(random_state=42) )\n",
    "]).fit(X_categorical, y_categorical)"
   ],
   "metadata": {
    "collapsed": false,
    "pycharm": {
     "name": "#%%\n"
    }
   }
  },
  {
   "cell_type": "code",
   "execution_count": 72,
   "outputs": [],
   "source": [
    "rf_cate_info = ModelWithCV(rf_cate, 'rf_cate', X_categorical, y_categorical)"
   ],
   "metadata": {
    "collapsed": false,
    "pycharm": {
     "name": "#%%\n"
    }
   }
  },
  {
   "cell_type": "code",
   "execution_count": 82,
   "outputs": [
    {
     "data": {
      "text/plain": "['./joblib_models/rf_cate_info.sav']"
     },
     "execution_count": 82,
     "metadata": {},
     "output_type": "execute_result"
    }
   ],
   "source": [
    "joblib.dump(rf_cate_info, './joblib_models/rf_cate_info.sav')"
   ],
   "metadata": {
    "collapsed": false,
    "pycharm": {
     "name": "#%%\n"
    }
   }
  },
  {
   "cell_type": "code",
   "execution_count": 73,
   "outputs": [
    {
     "name": "stderr",
     "output_type": "stream",
     "text": [
      "C:\\Users\\xiao\\anaconda3\\envs\\phase5\\lib\\site-packages\\sklearn\\utils\\deprecation.py:87: FutureWarning: Function plot_roc_curve is deprecated; Function :func:`plot_roc_curve` is deprecated in 1.0 and will be removed in 1.2. Use one of the class methods: :meth:`sklearn.metric.RocCurveDisplay.from_predictions` or :meth:`sklearn.metric.RocCurveDisplay.from_estimator`.\n",
      "  warnings.warn(msg, category=FutureWarning)\n",
      "C:\\Users\\xiao\\anaconda3\\envs\\phase5\\lib\\site-packages\\sklearn\\utils\\deprecation.py:87: FutureWarning: Function plot_confusion_matrix is deprecated; Function `plot_confusion_matrix` is deprecated in 1.0 and will be removed in 1.2. Use one of the class methods: ConfusionMatrixDisplay.from_predictions or ConfusionMatrixDisplay.from_estimator.\n",
      "  warnings.warn(msg, category=FutureWarning)\n"
     ]
    },
    {
     "name": "stdout",
     "output_type": "stream",
     "text": [
      " \n",
      "  f1_score is 0.40099299065420557 CV Results for `rf_cate` model:\n",
      "            0.90046 ± 0.00110 accuracy\n",
      "         <sklearn.metrics._plot.confusion_matrix.ConfusionMatrixDisplay object at 0x0000021FA2D794C0> <sklearn.metrics._plot.roc_curve.RocCurveDisplay object at 0x0000021FA30E1D90>\n"
     ]
    },
    {
     "data": {
      "text/plain": "<Figure size 432x288 with 1 Axes>",
      "image/png": "[encoded data removed]"
     },
     "metadata": {
      "needs_background": "light"
     },
     "output_type": "display_data"
    },
    {
     "data": {
      "text/plain": "<Figure size 432x288 with 2 Axes>",
      "image/png": "[encoded data removed]"
     },
     "metadata": {
      "needs_background": "light"
     },
     "output_type": "display_data"
    }
   ],
   "source": [
    "rf_cate_info.print_summary()"
   ],
   "metadata": {
    "collapsed": false,
    "pycharm": {
     "name": "#%%\n"
    }
   }
  },
  {
   "cell_type": "markdown",
   "source": [
    "### XGBoost"
   ],
   "metadata": {
    "collapsed": false,
    "pycharm": {
     "name": "#%% md\n"
    }
   }
  },
  {
   "cell_type": "code",
   "execution_count": 74,
   "outputs": [
    {
     "name": "stderr",
     "output_type": "stream",
     "text": [
      "C:\\Users\\xiao\\anaconda3\\envs\\phase5\\lib\\site-packages\\sklearn\\impute\\_iterative.py:700: ConvergenceWarning: [IterativeImputer] Early stopping criterion not reached.\n",
      "  warnings.warn(\n"
     ]
    }
   ],
   "source": [
    "xg_cate = ImPipeline(steps=[\n",
    "    ('ct', ct_categorical),\n",
    "    ('sm', SMOTE(sampling_strategy=0.25, random_state=1)),\n",
    "    ('xg_cate', XGBClassifier(random_state= 42) )\n",
    "]).fit(X_categorical, y_categorical)"
   ],
   "metadata": {
    "collapsed": false,
    "pycharm": {
     "name": "#%%\n"
    }
   }
  },
  {
   "cell_type": "code",
   "execution_count": 75,
   "outputs": [
    {
     "name": "stderr",
     "output_type": "stream",
     "text": [
      "C:\\Users\\xiao\\anaconda3\\envs\\phase5\\lib\\site-packages\\sklearn\\utils\\deprecation.py:87: FutureWarning: Function plot_roc_curve is deprecated; Function :func:`plot_roc_curve` is deprecated in 1.0 and will be removed in 1.2. Use one of the class methods: :meth:`sklearn.metric.RocCurveDisplay.from_predictions` or :meth:`sklearn.metric.RocCurveDisplay.from_estimator`.\n",
      "  warnings.warn(msg, category=FutureWarning)\n",
      "C:\\Users\\xiao\\anaconda3\\envs\\phase5\\lib\\site-packages\\sklearn\\utils\\deprecation.py:87: FutureWarning: Function plot_confusion_matrix is deprecated; Function `plot_confusion_matrix` is deprecated in 1.0 and will be removed in 1.2. Use one of the class methods: ConfusionMatrixDisplay.from_predictions or ConfusionMatrixDisplay.from_estimator.\n",
      "  warnings.warn(msg, category=FutureWarning)\n"
     ]
    },
    {
     "name": "stdout",
     "output_type": "stream",
     "text": [
      " \n",
      "  f1_score is 0.2941083457196167 CV Results for `xg_cate` model:\n",
      "            0.90825 ± 0.00134 accuracy\n",
      "         <sklearn.metrics._plot.confusion_matrix.ConfusionMatrixDisplay object at 0x0000021F93B813A0> <sklearn.metrics._plot.roc_curve.RocCurveDisplay object at 0x0000021FA314B0A0>\n"
     ]
    },
    {
     "data": {
      "text/plain": "<Figure size 432x288 with 1 Axes>",
      "image/png": "[encoded data removed]"
     },
     "metadata": {
      "needs_background": "light"
     },
     "output_type": "display_data"
    },
    {
     "data": {
      "text/plain": "<Figure size 432x288 with 2 Axes>",
      "image/png": "[encoded data removed]"
     },
     "metadata": {
      "needs_background": "light"
     },
     "output_type": "display_data"
    }
   ],
   "source": [
    "xg_cate_info = ModelWithCV(xg_cate, 'xg_cate', X_categorical, y_categorical)\n",
    "xg_cate_info.print_summary()"
   ],
   "metadata": {
    "collapsed": false,
    "pycharm": {
     "name": "#%%\n"
    }
   }
  },
  {
   "cell_type": "code",
   "execution_count": 76,
   "outputs": [
    {
     "data": {
      "text/plain": "['./joblib_models/xg_cate_info.sav']"
     },
     "execution_count": 76,
     "metadata": {},
     "output_type": "execute_result"
    }
   ],
   "source": [
    "joblib.dump(xg_cate_info, './joblib_models/xg_cate_info.sav')"
   ],
   "metadata": {
    "collapsed": false,
    "pycharm": {
     "name": "#%%\n"
    }
   }
  },
  {
   "cell_type": "markdown",
   "source": [
    "### Gridsearch on the best model"
   ],
   "metadata": {
    "collapsed": false,
    "pycharm": {
     "name": "#%% md\n"
    }
   }
  },
  {
   "cell_type": "code",
   "execution_count": 88,
   "outputs": [],
   "source": [
    "rf_cate_params = {\n",
    "    'rf__n_estimators' : [10 ,100,200],\n",
    "    'rf__criterion' : ['gini', 'entropy'],\n",
    "    'rf__max_depth' : [5,10,20,25],\n",
    "    'rf__min_samples_split' : [100,500,1000]\n",
    "}"
   ],
   "metadata": {
    "collapsed": false,
    "pycharm": {
     "name": "#%%\n"
    }
   }
  },
  {
   "cell_type": "code",
   "execution_count": null,
   "outputs": [
    {
     "name": "stdout",
     "output_type": "stream",
     "text": [
      "Fitting 5 folds for each of 72 candidates, totalling 360 fits\n"
     ]
    }
   ],
   "source": [
    "rf_cate_gs = GridSearchCV(estimator=rf_cate, param_grid=rf_cate_params, n_jobs=-1,verbose=3).fit(X_categorical,y_categorical)"
   ],
   "metadata": {
    "collapsed": false,
    "pycharm": {
     "name": "#%%\n",
     "is_executing": true
    }
   }
  },
  {
   "cell_type": "code",
   "execution_count": null,
   "outputs": [],
   "source": [
    "joblib.dump(rf_cate_gs, './joblib_models/rf_cate_gs.sav')"
   ],
   "metadata": {
    "collapsed": false,
    "pycharm": {
     "name": "#%%\n",
     "is_executing": true
    }
   }
  },
  {
   "cell_type": "code",
   "execution_count": null,
   "outputs": [],
   "source": [
    "rf_cate_info = ModelWithCV(rf_cate_gs, 'rf_cate_gs', X_categorical, y_categorical)\n",
    "\n",
    "rf_cate_info.print_summary()"
   ],
   "metadata": {
    "collapsed": false,
    "pycharm": {
     "name": "#%%\n"
    }
   }
  },
  {
   "cell_type": "markdown",
   "source": [
    "# More data input into models"
   ],
   "metadata": {
    "collapsed": false,
    "pycharm": {
     "name": "#%% md\n"
    }
   }
  },
  {
   "cell_type": "markdown",
   "source": [
    "### Logistic Model"
   ],
   "metadata": {
    "collapsed": false,
    "pycharm": {
     "name": "#%% md\n"
    }
   }
  },
  {
   "cell_type": "code",
   "execution_count": null,
   "outputs": [],
   "source": [
    "log2 = ImPipeline(steps=[\n",
    "    ('ct', ct),\n",
    "    ('sm', SMOTE(sampling_strategy= 0.25, random_state=1)),\n",
    "    ('log2',LogisticRegression(random_state=42, n_jobs= -1))\n",
    "]).fit(X_train, y_train)"
   ],
   "metadata": {
    "collapsed": false,
    "pycharm": {
     "name": "#%%\n"
    }
   }
  },
  {
   "cell_type": "code",
   "execution_count": null,
   "outputs": [],
   "source": [
    "joblib.dump(log2, './joblib_models/log2.sav')"
   ],
   "metadata": {
    "collapsed": false,
    "pycharm": {
     "name": "#%%\n"
    }
   }
  },
  {
   "cell_type": "code",
   "execution_count": null,
   "outputs": [],
   "source": [
    "log2_info = ModelWithCV(log2, 'log2', X_train, y_train)"
   ],
   "metadata": {
    "collapsed": false,
    "pycharm": {
     "name": "#%%\n"
    }
   }
  },
  {
   "cell_type": "code",
   "execution_count": null,
   "outputs": [],
   "source": [
    "joblib.dump(log2_info, './joblib_models/log2_info.sav')"
   ],
   "metadata": {
    "collapsed": false,
    "pycharm": {
     "name": "#%%\n"
    }
   }
  },
  {
   "cell_type": "code",
   "execution_count": null,
   "outputs": [],
   "source": [
    "log2_info.print_summary()"
   ],
   "metadata": {
    "collapsed": false,
    "pycharm": {
     "name": "#%%\n"
    }
   }
  },
  {
   "cell_type": "markdown",
   "source": [
    "### KNN"
   ],
   "metadata": {
    "collapsed": false,
    "pycharm": {
     "name": "#%% md\n"
    }
   }
  },
  {
   "cell_type": "code",
   "execution_count": null,
   "outputs": [],
   "source": [
    "knn2 = ImPipeline(steps=[\n",
    "    ('ct', ct),\n",
    "    ('sm', SMOTE(sampling_strategy= 0.25, random_state=1)),\n",
    "    ('knn2',KNeighborsClassifier( n_jobs= -1))\n",
    "]).fit(X_train, y_train)"
   ],
   "metadata": {
    "collapsed": false,
    "pycharm": {
     "name": "#%%\n"
    }
   }
  },
  {
   "cell_type": "code",
   "execution_count": null,
   "outputs": [],
   "source": [
    "joblib.dump(knn2, './joblib_models/knn2.sav')"
   ],
   "metadata": {
    "collapsed": false,
    "pycharm": {
     "name": "#%%\n"
    }
   }
  },
  {
   "cell_type": "code",
   "execution_count": null,
   "outputs": [],
   "source": [
    "knn2_info = ModelWithCV(knn2, 'knn2', X_train, y_train)"
   ],
   "metadata": {
    "collapsed": false,
    "pycharm": {
     "name": "#%%\n"
    }
   }
  },
  {
   "cell_type": "code",
   "execution_count": null,
   "outputs": [],
   "source": [
    "joblib.dump(knn2_info, './joblib_models/knn2_info.sav')"
   ],
   "metadata": {
    "collapsed": false,
    "pycharm": {
     "name": "#%%\n"
    }
   }
  },
  {
   "cell_type": "code",
   "execution_count": null,
   "outputs": [],
   "source": [
    "knn2_info.print_summary()"
   ],
   "metadata": {
    "collapsed": false,
    "pycharm": {
     "name": "#%%\n"
    }
   }
  },
  {
   "cell_type": "markdown",
   "source": [
    "### Decision Tree"
   ],
   "metadata": {
    "collapsed": false,
    "pycharm": {
     "name": "#%% md\n"
    }
   }
  },
  {
   "cell_type": "code",
   "execution_count": null,
   "outputs": [],
   "source": [
    "dtree2 = ImPipeline(steps=[\n",
    "    ('ct', ct),\n",
    "    ('sm', SMOTE(sampling_strategy=0.25, random_state=1)),\n",
    "    ('dtree2', DecisionTreeClassifier(random_state=42) )\n",
    "]).fit(X_train, y_train)"
   ],
   "metadata": {
    "collapsed": false,
    "pycharm": {
     "name": "#%%\n"
    }
   }
  },
  {
   "cell_type": "code",
   "execution_count": null,
   "outputs": [],
   "source": [
    "joblib.dump(dtree2, './joblib_models/dtree2.sav')"
   ],
   "metadata": {
    "collapsed": false,
    "pycharm": {
     "name": "#%%\n"
    }
   }
  },
  {
   "cell_type": "code",
   "execution_count": null,
   "outputs": [],
   "source": [
    "dtree2_info = ModelWithCV(dtree2, 'dtree2', X_train, y_train)"
   ],
   "metadata": {
    "collapsed": false,
    "pycharm": {
     "name": "#%%\n"
    }
   }
  },
  {
   "cell_type": "code",
   "execution_count": null,
   "outputs": [],
   "source": [
    "joblib.dump(dtree2_info, './joblib_models/dtree2_info.sav')"
   ],
   "metadata": {
    "collapsed": false,
    "pycharm": {
     "name": "#%%\n"
    }
   }
  },
  {
   "cell_type": "code",
   "execution_count": null,
   "outputs": [],
   "source": [
    "dtree2_info.print_summary()"
   ],
   "metadata": {
    "collapsed": false,
    "pycharm": {
     "name": "#%%\n"
    }
   }
  },
  {
   "cell_type": "code",
   "execution_count": null,
   "outputs": [],
   "source": [
    "rf2 = ImPipeline(steps=[\n",
    "    ('ct', ct),\n",
    "    ('sm', SMOTE(sampling_strategy=0.25, random_state=1)),\n",
    "    ('rf', RandomForestClassifier(random_state=42) )\n",
    "]).fit(X_train, y_train)"
   ],
   "metadata": {
    "collapsed": false,
    "pycharm": {
     "name": "#%%\n"
    }
   }
  },
  {
   "cell_type": "code",
   "execution_count": null,
   "outputs": [],
   "source": [
    "joblib.dump(rf2, './joblib_models/rf2.sav')"
   ],
   "metadata": {
    "collapsed": false,
    "pycharm": {
     "name": "#%%\n"
    }
   }
  },
  {
   "cell_type": "code",
   "execution_count": null,
   "outputs": [],
   "source": [
    "rf2_info = ModelWithCV(rf2, 'rf2', X_train, y_train)"
   ],
   "metadata": {
    "collapsed": false,
    "pycharm": {
     "name": "#%%\n"
    }
   }
  },
  {
   "cell_type": "code",
   "execution_count": null,
   "outputs": [],
   "source": [
    "joblib.dump(rf2_info, './joblib_models/rf2_info.sav')"
   ],
   "metadata": {
    "collapsed": false,
    "pycharm": {
     "name": "#%%\n"
    }
   }
  },
  {
   "cell_type": "markdown",
   "source": [
    "### XGBoost"
   ],
   "metadata": {
    "collapsed": false,
    "pycharm": {
     "name": "#%% md\n"
    }
   }
  },
  {
   "cell_type": "code",
   "execution_count": null,
   "outputs": [],
   "source": [
    "xg2 = ImPipeline(steps=[\n",
    "    ('ct', ct),\n",
    "    ('sm', SMOTE(sampling_strategy=0.25, random_state=1)),\n",
    "    ('xg2', XGBClassifier(random_state= 42) )\n",
    "]).fit(X_train, y_train)"
   ],
   "metadata": {
    "collapsed": false,
    "pycharm": {
     "name": "#%%\n"
    }
   }
  },
  {
   "cell_type": "code",
   "execution_count": null,
   "outputs": [],
   "source": [
    "joblib.dump(xg2, './joblib_models/xg2.sav')"
   ],
   "metadata": {
    "collapsed": false,
    "pycharm": {
     "name": "#%%\n"
    }
   }
  },
  {
   "cell_type": "code",
   "execution_count": null,
   "outputs": [],
   "source": [
    "xg2_info = ModelWithCV(xg2, 'xg2', X_train, y_train)"
   ],
   "metadata": {
    "collapsed": false,
    "pycharm": {
     "name": "#%%\n"
    }
   }
  },
  {
   "cell_type": "code",
   "execution_count": null,
   "outputs": [],
   "source": [
    "joblib.dump(xg2_info, './joblib_models/xg2_info.sav')"
   ],
   "metadata": {
    "collapsed": false,
    "pycharm": {
     "name": "#%%\n"
    }
   }
  },
  {
   "cell_type": "code",
   "execution_count": null,
   "outputs": [],
   "source": [
    "xg2_info.print_summary()"
   ],
   "metadata": {
    "collapsed": false,
    "pycharm": {
     "name": "#%%\n"
    }
   }
  },
  {
   "cell_type": "code",
   "execution_count": null,
   "outputs": [],
   "source": [],
   "metadata": {
    "collapsed": false,
    "pycharm": {
     "name": "#%%\n"
    }
   }
  },
  {
   "cell_type": "markdown",
   "source": [
    "# Grid search on these"
   ],
   "metadata": {
    "collapsed": false,
    "pycharm": {
     "name": "#%% md\n"
    }
   }
  },
  {
   "cell_type": "code",
   "execution_count": null,
   "outputs": [],
   "source": [
    "# log2_params = {\n",
    "#     'log2__C' : [10,100,1000],\n",
    "#     'log2__max_iter' : [10,20,30],\n",
    "#     'log2__penalty' : ['l2', 'l1'],\n",
    "#     'log2__solver' : ['saga', 'liblinear']\n",
    "# }"
   ],
   "metadata": {
    "collapsed": false,
    "pycharm": {
     "name": "#%%\n"
    }
   }
  },
  {
   "cell_type": "code",
   "execution_count": null,
   "outputs": [],
   "source": [
    "# log2_gs = GridSearchCV(estimator=log2, param_grid=log2_params, n_jobs=-1, verbose=2).fit(X_train,y_train)"
   ],
   "metadata": {
    "collapsed": false,
    "pycharm": {
     "name": "#%%\n"
    }
   }
  },
  {
   "cell_type": "code",
   "execution_count": null,
   "outputs": [],
   "source": [
    "# joblib.dump(log2_gs, './joblib_models/log2_gs.sav')"
   ],
   "metadata": {
    "collapsed": false,
    "pycharm": {
     "name": "#%%\n"
    }
   }
  },
  {
   "cell_type": "code",
   "execution_count": null,
   "outputs": [],
   "source": [
    "# log2_tune = ModelWithCV(log2_gs.best_estimator_,'log2_tune', X_train, y_train)"
   ],
   "metadata": {
    "collapsed": false,
    "pycharm": {
     "name": "#%%\n"
    }
   }
  },
  {
   "cell_type": "code",
   "execution_count": null,
   "outputs": [],
   "source": [
    "# joblib.dump(log2_tune, './joblib_models/log2_tune.sav')"
   ],
   "metadata": {
    "collapsed": false,
    "pycharm": {
     "name": "#%%\n"
    }
   }
  },
  {
   "cell_type": "code",
   "execution_count": null,
   "outputs": [],
   "source": [
    "# log2_tune.print_summary()"
   ],
   "metadata": {
    "collapsed": false,
    "pycharm": {
     "name": "#%%\n"
    }
   }
  },
  {
   "cell_type": "code",
   "execution_count": null,
   "outputs": [],
   "source": [],
   "metadata": {
    "collapsed": false,
    "pycharm": {
     "name": "#%%\n"
    }
   }
  },
  {
   "cell_type": "markdown",
   "source": [
    "## KNN"
   ],
   "metadata": {
    "collapsed": false,
    "pycharm": {
     "name": "#%% md\n"
    }
   }
  },
  {
   "cell_type": "code",
   "execution_count": null,
   "outputs": [],
   "source": [
    "# knn2_params = {\n",
    "#     'knn1__n_neighbors': [5,10,20],\n",
    "#     'knn1__metric' : ['minkowski', 'euclidean']\n",
    "# }"
   ],
   "metadata": {
    "collapsed": false,
    "pycharm": {
     "name": "#%%\n"
    }
   }
  },
  {
   "cell_type": "code",
   "execution_count": null,
   "outputs": [],
   "source": [
    "# knn2_gs = GridSearchCV(estimator=knn2, param_grid=knn2_params, n_jobs=-1,verbose=2).fit(X_train,y_train)"
   ],
   "metadata": {
    "collapsed": false,
    "pycharm": {
     "name": "#%%\n"
    }
   }
  },
  {
   "cell_type": "code",
   "execution_count": null,
   "outputs": [],
   "source": [
    "# joblib.dump(knn2_gs, './joblib_models/knn2_gs.sav')"
   ],
   "metadata": {
    "collapsed": false,
    "pycharm": {
     "name": "#%%\n"
    }
   }
  },
  {
   "cell_type": "code",
   "execution_count": null,
   "outputs": [],
   "source": [
    "# knn2_tune = ModelWithCV(knn2_gs.best_estimator_,'knn2_tune', X_train, y_train)"
   ],
   "metadata": {
    "collapsed": false,
    "pycharm": {
     "name": "#%%\n"
    }
   }
  },
  {
   "cell_type": "code",
   "execution_count": null,
   "outputs": [],
   "source": [
    "# joblib.dump(knn2_tune, './joblib_models/knn2_tune.sav')"
   ],
   "metadata": {
    "collapsed": false,
    "pycharm": {
     "name": "#%%\n"
    }
   }
  },
  {
   "cell_type": "code",
   "execution_count": null,
   "outputs": [],
   "source": [
    "# knn2_tune.print_summary()"
   ],
   "metadata": {
    "collapsed": false,
    "pycharm": {
     "name": "#%%\n"
    }
   }
  },
  {
   "cell_type": "code",
   "execution_count": null,
   "outputs": [],
   "source": [],
   "metadata": {
    "collapsed": false,
    "pycharm": {
     "name": "#%%\n"
    }
   }
  },
  {
   "cell_type": "markdown",
   "source": [
    "## Decision Tree"
   ],
   "metadata": {
    "collapsed": false,
    "pycharm": {
     "name": "#%% md\n"
    }
   }
  },
  {
   "cell_type": "code",
   "execution_count": null,
   "outputs": [],
   "source": [
    "# dtree2_params = {\n",
    "#     'dtree2__criterion' : ['gini', 'entropy'],\n",
    "#     'dtree2__max_depth' : [2,4,6],\n",
    "#     'dtree2__min_samples_split' : [1000, 10000, 50000]\n",
    "# }"
   ],
   "metadata": {
    "collapsed": false,
    "pycharm": {
     "name": "#%%\n"
    }
   }
  },
  {
   "cell_type": "code",
   "execution_count": null,
   "outputs": [],
   "source": [
    "# dtree2_gs = GridSearchCV(estimator=dtree2, param_grid=dtree2_params, n_jobs=-1, verbose=2).fit(X_train,y_train)"
   ],
   "metadata": {
    "collapsed": false,
    "pycharm": {
     "name": "#%%\n"
    }
   }
  },
  {
   "cell_type": "code",
   "execution_count": null,
   "outputs": [],
   "source": [
    "# joblib.dump(dtree2_gs, './joblib_models/dtree2_gs.sav')"
   ],
   "metadata": {
    "collapsed": false,
    "pycharm": {
     "name": "#%%\n"
    }
   }
  },
  {
   "cell_type": "code",
   "execution_count": null,
   "outputs": [],
   "source": [
    "# dtree2_tune = ModelWithCV(dtree2_gs.best_estimator_,'dtree2_tune', X_train, y_train)"
   ],
   "metadata": {
    "collapsed": false,
    "pycharm": {
     "name": "#%%\n"
    }
   }
  },
  {
   "cell_type": "code",
   "execution_count": null,
   "outputs": [],
   "source": [
    "# joblib.dump(dtree2_tune, './joblib_models/dtree2_tune.sav')"
   ],
   "metadata": {
    "collapsed": false,
    "pycharm": {
     "name": "#%%\n"
    }
   }
  },
  {
   "cell_type": "code",
   "execution_count": null,
   "outputs": [],
   "source": [
    "# dtree2_tune.print_summary()"
   ],
   "metadata": {
    "collapsed": false,
    "pycharm": {
     "name": "#%%\n"
    }
   }
  },
  {
   "cell_type": "code",
   "execution_count": null,
   "outputs": [],
   "source": [],
   "metadata": {
    "collapsed": false,
    "pycharm": {
     "name": "#%%\n"
    }
   }
  }
 ],
 "metadata": {
  "kernelspec": {
   "display_name": "Python (phase5)",
   "language": "python",
   "name": "phase5"
  },
  "language_info": {
   "codemirror_mode": {
    "name": "ipython",
    "version": 3
   },
   "file_extension": ".py",
   "mimetype": "text/x-python",
   "name": "python",
   "nbconvert_exporter": "python",
   "pygments_lexer": "ipython3",
   "version": "3.8.5"
  }
 },
 "nbformat": 4,
 "nbformat_minor": 5
}